{
  "nbformat": 4,
  "nbformat_minor": 0,
  "metadata": {
    "colab": {
      "provenance": [],
      "collapsed_sections": [],
      "toc_visible": true,
      "include_colab_link": true
    },
    "kernelspec": {
      "name": "python3",
      "display_name": "Python 3"
    }
  },
  "cells": [
    {
      "cell_type": "markdown",
      "metadata": {
        "id": "view-in-github",
        "colab_type": "text"
      },
      "source": [
        "<a href=\"https://colab.research.google.com/github/fereol023/My-ML-Courses-/blob/main/TD5_ML_R%C3%A9gression_Ensemble.ipynb\" target=\"_parent\"><img src=\"https://colab.research.google.com/assets/colab-badge.svg\" alt=\"Open In Colab\"/></a>"
      ]
    },
    {
      "cell_type": "markdown",
      "source": [
        "# Exercice 1: Regression linéaire avec Scikit-learn"
      ],
      "metadata": {
        "id": "hu8v4Yfercf-"
      }
    },
    {
      "cell_type": "markdown",
      "source": [
        "\n",
        "### I- Importer les données \"California_housing\"\n",
        "Dans cet exercice, on utilise un ensemble de données concernant les prix de l’immobilier en Californie (\"California_housing\"). Dans cet ensemble de données, nous avons des informations concernant la démographie (revenu, population, occupation de la maison) dans les districts, l’emplacement des districts (latitude, longitude) et des informations générales concernant la maison dans les districts (nombre de pièces, nombre de chambres, âge de la maison).\n",
        "\n",
        "Tout d’abord, on importe les packages pandas et datasets (qui contient des jeus de données pour application). Afficher ensuite la description des des données (bien lire la description) et les 10 premières lignes des données input (data) et output (target).\n",
        "\n"
      ],
      "metadata": {
        "id": "bLPTWnMf7tDA"
      }
    },
    {
      "cell_type": "code",
      "source": [
        "#importer  la librairie Pandas\n",
        "import pandas as pd\n",
        "#importer le jeu de données  california_housing\n",
        "from sklearn.datasets import fetch_california_housing\n",
        "données = fetch_california_housing()\n",
        "#imprimer la description des données\n",
        "print(données.DESCR)\n",
        "#récupérer les données dans un frame pandas\n",
        "X= pd.DataFrame(données.data, columns = données.feature_names)\n",
        "#afficher les 10 premières ligne des données d'apprentissage\n",
        "X.head(10)\n",
        "# données cible dans un nouveau dataframe\n",
        "Y = pd.DataFrame(données.target)\n",
        "#afficher les 10 premières ligne des données cible \n",
        "Y.head(10)"
      ],
      "metadata": {
        "id": "sOCILEAqdFQw",
        "colab": {
          "base_uri": "https://localhost:8080/",
          "height": 1000
        },
        "outputId": "28b1cd01-6b7b-48cb-fd44-5c21475591ac"
      },
      "execution_count": 1,
      "outputs": [
        {
          "output_type": "stream",
          "name": "stdout",
          "text": [
            ".. _california_housing_dataset:\n",
            "\n",
            "California Housing dataset\n",
            "--------------------------\n",
            "\n",
            "**Data Set Characteristics:**\n",
            "\n",
            "    :Number of Instances: 20640\n",
            "\n",
            "    :Number of Attributes: 8 numeric, predictive attributes and the target\n",
            "\n",
            "    :Attribute Information:\n",
            "        - MedInc        median income in block group\n",
            "        - HouseAge      median house age in block group\n",
            "        - AveRooms      average number of rooms per household\n",
            "        - AveBedrms     average number of bedrooms per household\n",
            "        - Population    block group population\n",
            "        - AveOccup      average number of household members\n",
            "        - Latitude      block group latitude\n",
            "        - Longitude     block group longitude\n",
            "\n",
            "    :Missing Attribute Values: None\n",
            "\n",
            "This dataset was obtained from the StatLib repository.\n",
            "https://www.dcc.fc.up.pt/~ltorgo/Regression/cal_housing.html\n",
            "\n",
            "The target variable is the median house value for California districts,\n",
            "expressed in hundreds of thousands of dollars ($100,000).\n",
            "\n",
            "This dataset was derived from the 1990 U.S. census, using one row per census\n",
            "block group. A block group is the smallest geographical unit for which the U.S.\n",
            "Census Bureau publishes sample data (a block group typically has a population\n",
            "of 600 to 3,000 people).\n",
            "\n",
            "An household is a group of people residing within a home. Since the average\n",
            "number of rooms and bedrooms in this dataset are provided per household, these\n",
            "columns may take surpinsingly large values for block groups with few households\n",
            "and many empty houses, such as vacation resorts.\n",
            "\n",
            "It can be downloaded/loaded using the\n",
            ":func:`sklearn.datasets.fetch_california_housing` function.\n",
            "\n",
            ".. topic:: References\n",
            "\n",
            "    - Pace, R. Kelley and Ronald Barry, Sparse Spatial Autoregressions,\n",
            "      Statistics and Probability Letters, 33 (1997) 291-297\n",
            "\n"
          ]
        },
        {
          "output_type": "execute_result",
          "data": {
            "text/plain": [
              "       0\n",
              "0  4.526\n",
              "1  3.585\n",
              "2  3.521\n",
              "3  3.413\n",
              "4  3.422\n",
              "5  2.697\n",
              "6  2.992\n",
              "7  2.414\n",
              "8  2.267\n",
              "9  2.611"
            ],
            "text/html": [
              "\n",
              "  <div id=\"df-b1d232c2-26f7-42c7-b9b7-f40c92c4b7bd\">\n",
              "    <div class=\"colab-df-container\">\n",
              "      <div>\n",
              "<style scoped>\n",
              "    .dataframe tbody tr th:only-of-type {\n",
              "        vertical-align: middle;\n",
              "    }\n",
              "\n",
              "    .dataframe tbody tr th {\n",
              "        vertical-align: top;\n",
              "    }\n",
              "\n",
              "    .dataframe thead th {\n",
              "        text-align: right;\n",
              "    }\n",
              "</style>\n",
              "<table border=\"1\" class=\"dataframe\">\n",
              "  <thead>\n",
              "    <tr style=\"text-align: right;\">\n",
              "      <th></th>\n",
              "      <th>0</th>\n",
              "    </tr>\n",
              "  </thead>\n",
              "  <tbody>\n",
              "    <tr>\n",
              "      <th>0</th>\n",
              "      <td>4.526</td>\n",
              "    </tr>\n",
              "    <tr>\n",
              "      <th>1</th>\n",
              "      <td>3.585</td>\n",
              "    </tr>\n",
              "    <tr>\n",
              "      <th>2</th>\n",
              "      <td>3.521</td>\n",
              "    </tr>\n",
              "    <tr>\n",
              "      <th>3</th>\n",
              "      <td>3.413</td>\n",
              "    </tr>\n",
              "    <tr>\n",
              "      <th>4</th>\n",
              "      <td>3.422</td>\n",
              "    </tr>\n",
              "    <tr>\n",
              "      <th>5</th>\n",
              "      <td>2.697</td>\n",
              "    </tr>\n",
              "    <tr>\n",
              "      <th>6</th>\n",
              "      <td>2.992</td>\n",
              "    </tr>\n",
              "    <tr>\n",
              "      <th>7</th>\n",
              "      <td>2.414</td>\n",
              "    </tr>\n",
              "    <tr>\n",
              "      <th>8</th>\n",
              "      <td>2.267</td>\n",
              "    </tr>\n",
              "    <tr>\n",
              "      <th>9</th>\n",
              "      <td>2.611</td>\n",
              "    </tr>\n",
              "  </tbody>\n",
              "</table>\n",
              "</div>\n",
              "      <button class=\"colab-df-convert\" onclick=\"convertToInteractive('df-b1d232c2-26f7-42c7-b9b7-f40c92c4b7bd')\"\n",
              "              title=\"Convert this dataframe to an interactive table.\"\n",
              "              style=\"display:none;\">\n",
              "        \n",
              "  <svg xmlns=\"http://www.w3.org/2000/svg\" height=\"24px\"viewBox=\"0 0 24 24\"\n",
              "       width=\"24px\">\n",
              "    <path d=\"M0 0h24v24H0V0z\" fill=\"none\"/>\n",
              "    <path d=\"M18.56 5.44l.94 2.06.94-2.06 2.06-.94-2.06-.94-.94-2.06-.94 2.06-2.06.94zm-11 1L8.5 8.5l.94-2.06 2.06-.94-2.06-.94L8.5 2.5l-.94 2.06-2.06.94zm10 10l.94 2.06.94-2.06 2.06-.94-2.06-.94-.94-2.06-.94 2.06-2.06.94z\"/><path d=\"M17.41 7.96l-1.37-1.37c-.4-.4-.92-.59-1.43-.59-.52 0-1.04.2-1.43.59L10.3 9.45l-7.72 7.72c-.78.78-.78 2.05 0 2.83L4 21.41c.39.39.9.59 1.41.59.51 0 1.02-.2 1.41-.59l7.78-7.78 2.81-2.81c.8-.78.8-2.07 0-2.86zM5.41 20L4 18.59l7.72-7.72 1.47 1.35L5.41 20z\"/>\n",
              "  </svg>\n",
              "      </button>\n",
              "      \n",
              "  <style>\n",
              "    .colab-df-container {\n",
              "      display:flex;\n",
              "      flex-wrap:wrap;\n",
              "      gap: 12px;\n",
              "    }\n",
              "\n",
              "    .colab-df-convert {\n",
              "      background-color: #E8F0FE;\n",
              "      border: none;\n",
              "      border-radius: 50%;\n",
              "      cursor: pointer;\n",
              "      display: none;\n",
              "      fill: #1967D2;\n",
              "      height: 32px;\n",
              "      padding: 0 0 0 0;\n",
              "      width: 32px;\n",
              "    }\n",
              "\n",
              "    .colab-df-convert:hover {\n",
              "      background-color: #E2EBFA;\n",
              "      box-shadow: 0px 1px 2px rgba(60, 64, 67, 0.3), 0px 1px 3px 1px rgba(60, 64, 67, 0.15);\n",
              "      fill: #174EA6;\n",
              "    }\n",
              "\n",
              "    [theme=dark] .colab-df-convert {\n",
              "      background-color: #3B4455;\n",
              "      fill: #D2E3FC;\n",
              "    }\n",
              "\n",
              "    [theme=dark] .colab-df-convert:hover {\n",
              "      background-color: #434B5C;\n",
              "      box-shadow: 0px 1px 3px 1px rgba(0, 0, 0, 0.15);\n",
              "      filter: drop-shadow(0px 1px 2px rgba(0, 0, 0, 0.3));\n",
              "      fill: #FFFFFF;\n",
              "    }\n",
              "  </style>\n",
              "\n",
              "      <script>\n",
              "        const buttonEl =\n",
              "          document.querySelector('#df-b1d232c2-26f7-42c7-b9b7-f40c92c4b7bd button.colab-df-convert');\n",
              "        buttonEl.style.display =\n",
              "          google.colab.kernel.accessAllowed ? 'block' : 'none';\n",
              "\n",
              "        async function convertToInteractive(key) {\n",
              "          const element = document.querySelector('#df-b1d232c2-26f7-42c7-b9b7-f40c92c4b7bd');\n",
              "          const dataTable =\n",
              "            await google.colab.kernel.invokeFunction('convertToInteractive',\n",
              "                                                     [key], {});\n",
              "          if (!dataTable) return;\n",
              "\n",
              "          const docLinkHtml = 'Like what you see? Visit the ' +\n",
              "            '<a target=\"_blank\" href=https://colab.research.google.com/notebooks/data_table.ipynb>data table notebook</a>'\n",
              "            + ' to learn more about interactive tables.';\n",
              "          element.innerHTML = '';\n",
              "          dataTable['output_type'] = 'display_data';\n",
              "          await google.colab.output.renderOutput(dataTable, element);\n",
              "          const docLink = document.createElement('div');\n",
              "          docLink.innerHTML = docLinkHtml;\n",
              "          element.appendChild(docLink);\n",
              "        }\n",
              "      </script>\n",
              "    </div>\n",
              "  </div>\n",
              "  "
            ]
          },
          "metadata": {},
          "execution_count": 1
        }
      ]
    },
    {
      "cell_type": "markdown",
      "source": [
        "## II- Afficher les caractéristiques du DataFrame\n",
        "Avant de commencer à travailler avec les données importées, il est important de comprendre leurs natures et caractéristiques. \n",
        "\n",
        "*   Uilisez les propriétés `shape`et `dtypes` pour afficher les dimensions et le type de chaque colonne dans la table DataFrame  X.\n",
        "\n",
        "*   Uilisez la fonction `describe` pour afficher une anlyse statistique de chaque colonne dans le DataFrame Y.\n"
      ],
      "metadata": {
        "id": "0sL5RpZ2joTL"
      }
    },
    {
      "cell_type": "code",
      "source": [
        "# shape of california_housing_dataframe\n",
        "print(X.shape)\n",
        "#print the types of the series in california_housing_dataframe\n",
        "print(X.dtypes)\n",
        "#print the statistics of the series data in california_housing_dataframe\n",
        "Y.describe()"
      ],
      "metadata": {
        "id": "BnOx8hK2kHeg",
        "colab": {
          "base_uri": "https://localhost:8080/",
          "height": 474
        },
        "outputId": "dfd58fca-51b3-4dab-9303-df23b2852f98"
      },
      "execution_count": 5,
      "outputs": [
        {
          "output_type": "stream",
          "name": "stdout",
          "text": [
            "(20640, 8)\n",
            "MedInc        float64\n",
            "HouseAge      float64\n",
            "AveRooms      float64\n",
            "AveBedrms     float64\n",
            "Population    float64\n",
            "AveOccup      float64\n",
            "Latitude      float64\n",
            "Longitude     float64\n",
            "dtype: object\n"
          ]
        },
        {
          "output_type": "execute_result",
          "data": {
            "text/plain": [
              "                  0\n",
              "count  20640.000000\n",
              "mean       2.068558\n",
              "std        1.153956\n",
              "min        0.149990\n",
              "25%        1.196000\n",
              "50%        1.797000\n",
              "75%        2.647250\n",
              "max        5.000010"
            ],
            "text/html": [
              "\n",
              "  <div id=\"df-defc786c-0ad0-4bc1-80e1-b85456bdd579\">\n",
              "    <div class=\"colab-df-container\">\n",
              "      <div>\n",
              "<style scoped>\n",
              "    .dataframe tbody tr th:only-of-type {\n",
              "        vertical-align: middle;\n",
              "    }\n",
              "\n",
              "    .dataframe tbody tr th {\n",
              "        vertical-align: top;\n",
              "    }\n",
              "\n",
              "    .dataframe thead th {\n",
              "        text-align: right;\n",
              "    }\n",
              "</style>\n",
              "<table border=\"1\" class=\"dataframe\">\n",
              "  <thead>\n",
              "    <tr style=\"text-align: right;\">\n",
              "      <th></th>\n",
              "      <th>0</th>\n",
              "    </tr>\n",
              "  </thead>\n",
              "  <tbody>\n",
              "    <tr>\n",
              "      <th>count</th>\n",
              "      <td>20640.000000</td>\n",
              "    </tr>\n",
              "    <tr>\n",
              "      <th>mean</th>\n",
              "      <td>2.068558</td>\n",
              "    </tr>\n",
              "    <tr>\n",
              "      <th>std</th>\n",
              "      <td>1.153956</td>\n",
              "    </tr>\n",
              "    <tr>\n",
              "      <th>min</th>\n",
              "      <td>0.149990</td>\n",
              "    </tr>\n",
              "    <tr>\n",
              "      <th>25%</th>\n",
              "      <td>1.196000</td>\n",
              "    </tr>\n",
              "    <tr>\n",
              "      <th>50%</th>\n",
              "      <td>1.797000</td>\n",
              "    </tr>\n",
              "    <tr>\n",
              "      <th>75%</th>\n",
              "      <td>2.647250</td>\n",
              "    </tr>\n",
              "    <tr>\n",
              "      <th>max</th>\n",
              "      <td>5.000010</td>\n",
              "    </tr>\n",
              "  </tbody>\n",
              "</table>\n",
              "</div>\n",
              "      <button class=\"colab-df-convert\" onclick=\"convertToInteractive('df-defc786c-0ad0-4bc1-80e1-b85456bdd579')\"\n",
              "              title=\"Convert this dataframe to an interactive table.\"\n",
              "              style=\"display:none;\">\n",
              "        \n",
              "  <svg xmlns=\"http://www.w3.org/2000/svg\" height=\"24px\"viewBox=\"0 0 24 24\"\n",
              "       width=\"24px\">\n",
              "    <path d=\"M0 0h24v24H0V0z\" fill=\"none\"/>\n",
              "    <path d=\"M18.56 5.44l.94 2.06.94-2.06 2.06-.94-2.06-.94-.94-2.06-.94 2.06-2.06.94zm-11 1L8.5 8.5l.94-2.06 2.06-.94-2.06-.94L8.5 2.5l-.94 2.06-2.06.94zm10 10l.94 2.06.94-2.06 2.06-.94-2.06-.94-.94-2.06-.94 2.06-2.06.94z\"/><path d=\"M17.41 7.96l-1.37-1.37c-.4-.4-.92-.59-1.43-.59-.52 0-1.04.2-1.43.59L10.3 9.45l-7.72 7.72c-.78.78-.78 2.05 0 2.83L4 21.41c.39.39.9.59 1.41.59.51 0 1.02-.2 1.41-.59l7.78-7.78 2.81-2.81c.8-.78.8-2.07 0-2.86zM5.41 20L4 18.59l7.72-7.72 1.47 1.35L5.41 20z\"/>\n",
              "  </svg>\n",
              "      </button>\n",
              "      \n",
              "  <style>\n",
              "    .colab-df-container {\n",
              "      display:flex;\n",
              "      flex-wrap:wrap;\n",
              "      gap: 12px;\n",
              "    }\n",
              "\n",
              "    .colab-df-convert {\n",
              "      background-color: #E8F0FE;\n",
              "      border: none;\n",
              "      border-radius: 50%;\n",
              "      cursor: pointer;\n",
              "      display: none;\n",
              "      fill: #1967D2;\n",
              "      height: 32px;\n",
              "      padding: 0 0 0 0;\n",
              "      width: 32px;\n",
              "    }\n",
              "\n",
              "    .colab-df-convert:hover {\n",
              "      background-color: #E2EBFA;\n",
              "      box-shadow: 0px 1px 2px rgba(60, 64, 67, 0.3), 0px 1px 3px 1px rgba(60, 64, 67, 0.15);\n",
              "      fill: #174EA6;\n",
              "    }\n",
              "\n",
              "    [theme=dark] .colab-df-convert {\n",
              "      background-color: #3B4455;\n",
              "      fill: #D2E3FC;\n",
              "    }\n",
              "\n",
              "    [theme=dark] .colab-df-convert:hover {\n",
              "      background-color: #434B5C;\n",
              "      box-shadow: 0px 1px 3px 1px rgba(0, 0, 0, 0.15);\n",
              "      filter: drop-shadow(0px 1px 2px rgba(0, 0, 0, 0.3));\n",
              "      fill: #FFFFFF;\n",
              "    }\n",
              "  </style>\n",
              "\n",
              "      <script>\n",
              "        const buttonEl =\n",
              "          document.querySelector('#df-defc786c-0ad0-4bc1-80e1-b85456bdd579 button.colab-df-convert');\n",
              "        buttonEl.style.display =\n",
              "          google.colab.kernel.accessAllowed ? 'block' : 'none';\n",
              "\n",
              "        async function convertToInteractive(key) {\n",
              "          const element = document.querySelector('#df-defc786c-0ad0-4bc1-80e1-b85456bdd579');\n",
              "          const dataTable =\n",
              "            await google.colab.kernel.invokeFunction('convertToInteractive',\n",
              "                                                     [key], {});\n",
              "          if (!dataTable) return;\n",
              "\n",
              "          const docLinkHtml = 'Like what you see? Visit the ' +\n",
              "            '<a target=\"_blank\" href=https://colab.research.google.com/notebooks/data_table.ipynb>data table notebook</a>'\n",
              "            + ' to learn more about interactive tables.';\n",
              "          element.innerHTML = '';\n",
              "          dataTable['output_type'] = 'display_data';\n",
              "          await google.colab.output.renderOutput(dataTable, element);\n",
              "          const docLink = document.createElement('div');\n",
              "          docLink.innerHTML = docLinkHtml;\n",
              "          element.appendChild(docLink);\n",
              "        }\n",
              "      </script>\n",
              "    </div>\n",
              "  </div>\n",
              "  "
            ]
          },
          "metadata": {},
          "execution_count": 5
        }
      ]
    },
    {
      "cell_type": "markdown",
      "source": [
        "Executer le code suivant afin d'afficher les prix des maisons (en $100,000) selon leurs emplacements (lattitude, longitude)."
      ],
      "metadata": {
        "id": "ePdAy4bSkDDG"
      }
    },
    {
      "cell_type": "code",
      "source": [
        "import seaborn as sns\n",
        "import matplotlib.pyplot as plt\n",
        "california_housing = fetch_california_housing(as_frame=True)\n",
        "sns.scatterplot(data=california_housing.frame, x=\"Longitude\", y=\"Latitude\",\n",
        "                size=\"MedHouseVal\", hue=\"MedHouseVal\",\n",
        "                palette=\"viridis\", alpha=0.5)\n",
        "plt.legend(title=\"MedHouseVal\", bbox_to_anchor=(1.05, 0.95), loc=\"upper left\")\n",
        "plt.title(\"Median house value depending of\\n their spatial location\")"
      ],
      "metadata": {
        "id": "r1Ukhf4ikCDA",
        "colab": {
          "base_uri": "https://localhost:8080/",
          "height": 327
        },
        "outputId": "5d788c8d-e0c7-4069-c8a6-54cadb6f29a4"
      },
      "execution_count": 6,
      "outputs": [
        {
          "output_type": "execute_result",
          "data": {
            "text/plain": [
              "Text(0.5, 1.0, 'Median house value depending of\\n their spatial location')"
            ]
          },
          "metadata": {},
          "execution_count": 6
        },
        {
          "output_type": "display_data",
          "data": {
            "text/plain": [
              "<Figure size 432x288 with 1 Axes>"
            ],
            "image/png": "[encoded data removed]"
          },
          "metadata": {
            "needs_background": "light"
          }
        }
      ]
    },
    {
      "cell_type": "markdown",
      "source": [
        "## III- Training/ Testing"
      ],
      "metadata": {
        "id": "nFTSdBgDrF5c"
      }
    },
    {
      "cell_type": "markdown",
      "source": [
        "\n",
        "### 1- Préparation des données \n",
        "\n",
        "Avec la fonction `train_test_split`, départager les données X et Y en données d'apprentissage (`X_train`, `Y_train`) et données test (`X_test` et `Y_test`) avec 40% pour le test."
      ],
      "metadata": {
        "id": "72ws6tXShmyZ"
      }
    },
    {
      "cell_type": "code",
      "source": [
        "from sklearn.model_selection import train_test_split\n",
        "\n",
        "#target *= 100  # rescale the target in k$\n",
        "X_train, X_test, Y_train, Y_test = train_test_split(\n",
        "    X, Y, random_state=0, test_size=0.4)"
      ],
      "metadata": {
        "id": "XTjqZX7Lh6H-"
      },
      "execution_count": 7,
      "outputs": []
    },
    {
      "cell_type": "markdown",
      "source": [
        "### 2- Régression linéaire avec la classe LinearRegression\n",
        "\n",
        "- Importer le package  `linear_model` et on créer une instance de la classe **LinearRegression()**:\n",
        "\n",
        "```\n",
        "model_linReg = linear_model.LinearRegression()\n",
        "```\n",
        "\n",
        "- On entraine le modèle de régression sur les données d'apprentissage  à l’aide de la méthode `fit()`.\n",
        "\n",
        "- Appliquer le modèle généré sur les données tests `x_test` à l'aide de la fonction `predict`.\n",
        "\n",
        "- Calculer et afficher le ascore du modèle."
      ],
      "metadata": {
        "id": "iatvie0TdCmO"
      }
    },
    {
      "cell_type": "code",
      "source": [
        "#importer la bibliothèque linear_model\n",
        "from sklearn import linear_model\n",
        "from sklearn.metrics import r2_score\n",
        "#instancier le modèle\n",
        "model_linReg = linear_model.LinearRegression()\n",
        "#training\n",
        "model_linReg.fit(X_train, Y_train)\n",
        "#prédiction\n",
        "Y_pred = model_linReg.predict(X_test)\n",
        "#scoring\n",
        "r2_score_linReg = r2_score(Y_test, Y_pred)\n",
        "print(\"Le modèle de régression explique à \", round(r2_score_linReg*100,2), \" % la variabilité des prix des logements.\")"
      ],
      "metadata": {
        "id": "h_Syx6VO9U-K",
        "colab": {
          "base_uri": "https://localhost:8080/"
        },
        "outputId": "38608bbb-9ecc-4b87-fdd7-aa43baa92099"
      },
      "execution_count": 29,
      "outputs": [
        {
          "output_type": "stream",
          "name": "stdout",
          "text": [
            "Le modèle de régression explique à  59.83  % la variabilité des prix des logements.\n"
          ]
        }
      ]
    },
    {
      "cell_type": "markdown",
      "source": [
        "## VI- La validation croisée\n",
        "On souhaite calculer la performance du modèle en utilisnt la validation croisée. Pour ce faire, importer la classe `cross_val_score` de la bibliothèque '`model_selection`'.\n",
        "\n",
        "Appeler ensuite la fonction `cross_val_score` en lui passant le modèle linéaire créé ci-dessus (model_linReg) et les jeux de données x et y avec 5 ensuite 10 folds.  Le vecteur des scores est récupéré dans la variable `cv_results`. Afficher ce vecteur avec le score moyen et la déviation standard. Comparer les résultats obtenus avec 5 et 10 folds. Que constatez-vous?\n"
      ],
      "metadata": {
        "id": "jwsAAquFjeEt"
      }
    },
    {
      "cell_type": "code",
      "source": [
        "from sklearn.model_selection import cross_val_score\n",
        "import numpy as np\n",
        "#lancement de la validation croisée avec 5 folds\n",
        "cv_results = cross_val_score(model_linReg, X, Y, cv = 5)\n",
        "#Affichage des résultats\n",
        "print (\"Le score obtenu pour chacun des 5 folds créés est : \",cv_results)\n",
        "print (\"Cela fait un score  moyen de : \", round(cv_results.mean()*100, 2), \" %.\")\n",
        "print (\"Et un écart-type de  : \", np.std(cv_results))\n",
        "print (\"---------------------------------------------\")\n",
        "#lancement de la validation croisée avec 10 folds\n",
        "cv_results = cross_val_score(model_linReg, X, Y, cv = 10)\n",
        "#Affichage des résultats\n",
        "print (\"Le score obtenu pour chacun des 10 folds créés est : \",cv_results)\n",
        "print (\"Cela fait un score moyen de : \",round(cv_results.mean()*100, 2), \" %.\")\n",
        "print (\"Et un écart-type de  : \", np.std(cv_results))"
      ],
      "metadata": {
        "id": "M4VsNGSnqPVA",
        "colab": {
          "base_uri": "https://localhost:8080/"
        },
        "outputId": "3b5d621b-bd74-4ef2-f41e-1a0e51b10b17"
      },
      "execution_count": 30,
      "outputs": [
        {
          "output_type": "stream",
          "name": "stdout",
          "text": [
            "Le score obtenu pour chacun des 5 folds créés est :  [0.54866323 0.46820691 0.55078434 0.53698703 0.66051406]\n",
            "Cela fait un score  moyen de :  55.3  %.\n",
            "Et un écart-type de  :  0.0616916014095326\n",
            "---------------------------------------------\n",
            "Le score obtenu pour chacun des 10 folds créés est :  [0.48254494 0.61416063 0.42274892 0.48178521 0.55705986 0.5412919\n",
            " 0.47496038 0.45844938 0.48177943 0.59528796]\n",
            "Cela fait un score moyen de :  51.1  %.\n",
            "Et un écart-type de  :  0.059288613712729595\n"
          ]
        }
      ]
    },
    {
      "cell_type": "markdown",
      "source": [
        "**Comparaison 5 folds vs 10 folds :**\n",
        "Le score moyen est plus faible avec 10 folds qu'avec les 5. Mais l'écart type est plus faible avec les 10 folds. "
      ],
      "metadata": {
        "id": "FN2DHZrSrQME"
      }
    },
    {
      "cell_type": "markdown",
      "source": [
        "## V- Les ensembles d'apprentissage : Bagging\n",
        "\n",
        "Scikit-learn implémente la procédure de bagging en tant que « méta-estimateur » (c’est-à-dire un estimateur qui enveloppe un autre estimateur) : il prend un modèle de base qui est\n",
        "cloné plusieurs fois et formé indépendamment sur chaque échantillon d’apprentissage créé dans la phase d'échantillonnage.\n",
        "\n",
        "L'objectif de cette question est de créer un ensemble de modèles de régression par le bagging. Nous définissons `n_estimators=100` au lieu d'1 dans notre implémentation \n",
        "ci-dessus pour obtenir un effet lissant plus fort.\n",
        "\n",
        "\n",
        "\n",
        "*   Importer la bibliothèque `BaggingRegressor` (\n",
        "`from sklearn.ensemble import BaggingRegressor`)\n",
        "\n",
        "*   créer un ensemble de modèles de régression appelé `base_estimator` comme instance de la classe `BaggingRegressor` en utilisant  le modèle de régression linéaire créé ci-dessus et un nombre de modèles égale à 100\n",
        "\n",
        "*   Lancer l'apprentissage avec `base_estimator` sur les données train \n",
        "*   Appliquer la prédiction avec `base_estimator` sur les données test \n",
        "\n",
        "\n",
        "\n"
      ],
      "metadata": {
        "id": "3yKHYxvlrLV9"
      }
    },
    {
      "cell_type": "code",
      "source": [
        "#Importer la bibliothèque BaggingRegressor \n",
        "from sklearn.ensemble import BaggingRegressor\n",
        "# Créer un ensemble de modèles de régression appelé base_estimator\n",
        "base_estimator = BaggingRegressor(model_linReg, n_estimators=100, random_state=0)\n",
        "#base_estimator = BaggingRegressor(model_linReg, n_estimators=500, random_state=0)\n",
        "\n",
        "#Lancer l'apprentissage avec la fonction fit()\n",
        "base_estimator.fit(X_train, Y_train)\n",
        "#Lancer la prédiction avec la fonction predict()\n",
        "Y_pred = base_estimator.predict(X_test)"
      ],
      "metadata": {
        "id": "LATUpgpqxUvo",
        "colab": {
          "base_uri": "https://localhost:8080/"
        },
        "outputId": "a25c7857-4f7d-4b13-f578-759acb581779"
      },
      "execution_count": 50,
      "outputs": [
        {
          "output_type": "stream",
          "name": "stderr",
          "text": [
            "/usr/local/lib/python3.7/dist-packages/sklearn/ensemble/_bagging.py:429: DataConversionWarning: A column-vector y was passed when a 1d array was expected. Please change the shape of y to (n_samples, ), for example using ravel().\n",
            "  return column_or_1d(y, warn=True)\n"
          ]
        }
      ]
    },
    {
      "cell_type": "markdown",
      "source": [
        "### Scoring et validation de modèles\n",
        "\n",
        "Calculer le scrore de l'ensemble `base_estimator`\n",
        "\n",
        "Comparer le résultat avec le score du modèle linéaire avec un seul *estimator*. Que remarquez-vous? "
      ],
      "metadata": {
        "id": "xEKJnbTbxsxl"
      }
    },
    {
      "cell_type": "code",
      "source": [
        "print(Y_test)\n",
        "print(pd.DataFrame(Y_pred))\n",
        "r2_bag_score = r2_score(Y_test, Y_pred)\n",
        "print(\"Avec 1 estimateur, le modèle explique \", round(r2_score_linReg*100, 2), \" % de la variabilité du prix des logements.\")\n",
        "print(\"Avec 100 estimateurs, le modèle explique \", round(r2_bag_score*100, 2), \" % de la variabilité du prix des logements.\")"
      ],
      "metadata": {
        "colab": {
          "base_uri": "https://localhost:8080/"
        },
        "id": "rvg4rHbYuccX",
        "outputId": "d6929b5b-fa36-4ff0-f54d-72e77912ad89"
      },
      "execution_count": 49,
      "outputs": [
        {
          "output_type": "stream",
          "name": "stdout",
          "text": [
            "           0\n",
            "14740  1.369\n",
            "10101  2.413\n",
            "20566  2.007\n",
            "2670   0.725\n",
            "15709  4.600\n",
            "...      ...\n",
            "14805  1.875\n",
            "1309   0.758\n",
            "20500  2.270\n",
            "19328  1.878\n",
            "16443  1.135\n",
            "\n",
            "[8256 rows x 1 columns]\n",
            "             0\n",
            "0     2.265976\n",
            "1     2.789692\n",
            "2     1.902932\n",
            "3     1.042884\n",
            "4     2.982878\n",
            "...        ...\n",
            "8251  4.121822\n",
            "8252  1.094962\n",
            "8253  3.027527\n",
            "8254  2.117149\n",
            "8255  1.173933\n",
            "\n",
            "[8256 rows x 1 columns]\n",
            "Avec 1 estimateur, le modèle explique  59.83  % de la variabilité du prix des logements.\n",
            "Avec 100 estimateurs, le modèle explique  59.13  % de la variabilité du prix des logements.\n"
          ]
        }
      ]
    },
    {
      "cell_type": "markdown",
      "source": [
        "On remarque que le modèle avec 100 estimateurs donne des résultats similaires à celui avec 1 estimateur.  \n",
        "Constat : Avec la méthode du bagging, plus on a d'estimateurs (exemple 500 ou 1000), plus le score du modèle s'améliore mais le temps d'exécution aussi augmente."
      ],
      "metadata": {
        "id": "itWY58dJ04H9"
      }
    },
    {
      "cell_type": "markdown",
      "source": [
        "# Exercice 2: Régression Non linéaire avec Scikit-learn\n",
        "\n",
        "Dans cet exercice, il est demandé de reprendre toutes les étapes du premier exercice avec un modèle de régression de la classe `DecisionTreeRegressor` d'une profondeur maximale égale à 3:\n",
        "\n",
        "```\n",
        "from sklearn.tree import DecisionTreeRegressor\n",
        "tree = DecisionTreeRegressor(max_depth=3, random_state=0)\n",
        "```\n",
        "\n"
      ],
      "metadata": {
        "id": "osN8c8FrzoNx"
      }
    },
    {
      "cell_type": "code",
      "source": [
        "line = \"--------\"*5\n",
        "from sklearn.tree import DecisionTreeRegressor\n",
        "# instanciation\n",
        "tree = DecisionTreeRegressor(max_depth=3, random_state=0)\n",
        "# apprentissage\n",
        "tree.fit(X_train, Y_train)\n",
        "# prediction\n",
        "Y_pred = tree.predict(X_test)\n",
        "# scoring\n",
        "r2_score_tree = r2_score(Y_test, Y_pred)\n",
        "print(\"La régression non linéarire explique \", round(r2_score_tree*100,2), \" % de la variablité du prix des logements. Tandis que le modèle linéaire expliquait \", round(r2_score_linReg*100,2) ,\" %.\")\n",
        "\n",
        "# validation croisée\n",
        "#lancement de la validation croisée avec 5 folds\n",
        "cv_results = cross_val_score(tree, X, Y, cv = 5)\n",
        "#Affichage des résultats\n",
        "print(line)\n",
        "print(\"VALIDATION CROISEE\")\n",
        "print (\"Le score obtenu pour chacun des 10 folds créés est : \",cv_results)\n",
        "print (\"Cela fait un score moyen de : \",round(cv_results.mean()*100, 2), \" %.\")\n",
        "print (\"Et un écart-type de  : \", np.std(cv_results))\n",
        "print(line)\n",
        "\n",
        "# bagging\n",
        "# Créer un ensemble de modèles de régression appelé base_estimator\n",
        "base_estimator_tree = BaggingRegressor(tree, n_estimators=100, random_state=0)\n",
        "#base_estimator_tree = BaggingRegressor(tree, n_estimators=500, random_state=0)\n",
        "#Lancer l'apprentissage avec la fonction fit()\n",
        "base_estimator_tree.fit(X_train, Y_train)\n",
        "#Lancer la prédiction avec la fonction predict()\n",
        "Y_pred = base_estimator_tree.predict(X_test)\n",
        "r2_bag_tree_score = r2_score(Y_test, Y_pred)\n",
        "\n",
        "print(line)\n",
        "print(\"BAGGING\")\n",
        "print(\"Avec 100 estimateurs, le modèle non linéaire explique \", round(r2_bag_tree_score*100, 2), \" % de la variabilité du prix des logements.\")\n"
      ],
      "metadata": {
        "colab": {
          "base_uri": "https://localhost:8080/"
        },
        "id": "3kdLKBTBnMZK",
        "outputId": "2e7c15da-363b-4b94-fe43-f6a78191745a"
      },
      "execution_count": 59,
      "outputs": [
        {
          "output_type": "stream",
          "name": "stdout",
          "text": [
            "La régression non linéarire explique  50.24  % de la variablité du prix des logements. Tandis que le modèle linéaire expliquait  59.83  %.\n",
            "----------------------------------------\n",
            "VALIDATION CROISEE\n",
            "Le score obtenu pour chacun des 10 folds créés est :  [0.4538519  0.43232135 0.51753817 0.30445633 0.53183194]\n",
            "Cela fait un score moyen de :  44.8  %.\n",
            "Et un écart-type de  :  0.08092984971381659\n",
            "----------------------------------------\n"
          ]
        },
        {
          "output_type": "stream",
          "name": "stderr",
          "text": [
            "/usr/local/lib/python3.7/dist-packages/sklearn/ensemble/_bagging.py:429: DataConversionWarning: A column-vector y was passed when a 1d array was expected. Please change the shape of y to (n_samples, ), for example using ravel().\n",
            "  return column_or_1d(y, warn=True)\n"
          ]
        },
        {
          "output_type": "stream",
          "name": "stdout",
          "text": [
            "----------------------------------------\n",
            "BAGGING\n",
            "Avec 100 estimateurs, le modèle non linéaire explique  55.33  % de la variabilité du prix des logements.\n"
          ]
        }
      ]
    },
    {
      "cell_type": "markdown",
      "source": [
        "On constate que le modèle avec 100 estimateurs (bagging) a un score meilleur que le modèle avec un seul estimateur."
      ],
      "metadata": {
        "id": "bo9vFejs7Uno"
      }
    }
  ]
}