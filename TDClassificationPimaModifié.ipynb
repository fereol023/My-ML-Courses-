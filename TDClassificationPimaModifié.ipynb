{
  "nbformat": 4,
  "nbformat_minor": 0,
  "metadata": {
    "colab": {
      "provenance": [],
      "collapsed_sections": [],
      "toc_visible": true,
      "include_colab_link": true
    },
    "kernelspec": {
      "name": "python3",
      "display_name": "Python 3"
    }
  },
  "cells": [
    {
      "cell_type": "markdown",
      "metadata": {
        "id": "view-in-github",
        "colab_type": "text"
      },
      "source": [
        "<a href=\"https://colab.research.google.com/github/fereol023/My-ML-Courses-/blob/main/TDClassificationPimaModifi%C3%A9.ipynb\" target=\"_parent\"><img src=\"https://colab.research.google.com/assets/colab-badge.svg\" alt=\"Open In Colab\"/></a>"
      ]
    },
    {
      "cell_type": "markdown",
      "metadata": {
        "id": "BeNZlCMx2_AT"
      },
      "source": [
        "# I- Connection à votre drive pour lecture des données:\n",
        "\n",
        "Cette étape est nécessaire seulement si vous travailler sous Clobal. Si vous travailler avec un aure éditeur python sur votre machine, il suffit de placer le fichier \"pima.csv\" dans votre répertoire de travail.\n",
        "\n",
        "1- Créer sur votre drive google un répertoire au nom \"data\" et importer dedans le fichier pima.csv\n",
        "\n",
        "2- Créer une connection à votre drive en exécutant le code suivant:\n",
        "\n",
        "```\n",
        "from google.colab import drive\n",
        "drive.mount(‘/content/drive’)\n",
        "```\n",
        "4- Suivre les étapes de connection et copier le lien envoyé.\n",
        "Si vous avez de difficultés, vous pouvez visualiser cette vidéo: https://youtu.be/TDyfhlg23vs\n",
        "\n"
      ]
    },
    {
      "cell_type": "code",
      "metadata": {
        "id": "gd0dkJSmyywg"
      },
      "source": [
        "#céer une connection avec google colab\n",
        "#from google.colab import drive\n",
        "#drive.mount('/content/drive')\n",
        "\n"
      ],
      "execution_count": 5,
      "outputs": []
    },
    {
      "cell_type": "markdown",
      "metadata": {
        "id": "DFZA3_sfzUD_"
      },
      "source": [
        "# II- Importation des données dans un frame pandas : \n",
        "Compléter le code suivant afin d’importer les données du fichier pima.csv et afficher les caractéristiques correspondantes.\n",
        "1- Importer la librairie pandas\n",
        "\n",
        "2- lire le fichier pima.csv (copier le chemin complet à partir de votre drive)\n",
        "\n",
        "3- Afficher les dimensions de la table avec la propriété shape\n",
        "\n",
        "4-afficher les colonnes et leurs types"
      ]
    },
    {
      "cell_type": "code",
      "metadata": {
        "id": "EXHPZTgv6o-7",
        "colab": {
          "base_uri": "https://localhost:8080/"
        },
        "outputId": "5a1f62e5-dbc5-4d57-80b3-ba883c05f820"
      },
      "source": [
        "#importer  la librairie Pandas\n",
        "import pandas as pd\n",
        "import requests\n",
        "import io\n",
        "\n",
        "#lecture du fichier \"prima.txt\" avec la fonction read_csv de pandas\n",
        "#header = 0, la première ligne correspond à l'entête (intitulé des champs)\n",
        "#pima = pd.read_csv(\"/content/drive/MyDrive/Data/pima.csv\", sep=',')\n",
        "\n",
        "#############################################\n",
        "# LECTURE DU FICHIER DEPUIS MON DEPOT GITHUB\n",
        "#############################################\n",
        "url = \"https://raw.githubusercontent.com/fereol023/My-ML-Courses-/main/pima.csv\"\n",
        "download = requests.get(url).content\n",
        "pima = pd.read_csv(io.StringIO(download.decode()), sep = \",\")\n",
        "\n",
        "#afficher les dimensions de la table des données avec la fonction pima.shape\n",
        "print(pima.shape ) \n",
        "#afficher la liste des colonnes pima.columns\n",
        "print(pima.columns)\n",
        "#afficher la liste des colonnes et leurs types avec la fonction dtypes\n",
        "print(pima.dtypes)"
      ],
      "execution_count": 6,
      "outputs": [
        {
          "output_type": "stream",
          "name": "stdout",
          "text": [
            "(767, 9)\n",
            "Index(['6', '148', '72', '35', '0', '33.6', '0.627', '50', '1'], dtype='object')\n",
            "6          int64\n",
            "148        int64\n",
            "72         int64\n",
            "35         int64\n",
            "0          int64\n",
            "33.6     float64\n",
            "0.627    float64\n",
            "50         int64\n",
            "1          int64\n",
            "dtype: object\n"
          ]
        }
      ]
    },
    {
      "cell_type": "markdown",
      "metadata": {
        "id": "VjmLZbKxTtKM"
      },
      "source": [
        "#III- Préparation des données d'apprentissage"
      ]
    },
    {
      "cell_type": "markdown",
      "metadata": {
        "id": "2niUh0YlRpyW"
      },
      "source": [
        "## 1- Séparation des input / Output\n",
        "1. Transférer la table pandas dans une matrice Numpy. Utiliser la fonction as_matrix().\n",
        "\n",
        "2. Séparer des données explicatives X (8 premières variables) et de la cible Y (dernière variable). Utiliser le slicing."
      ]
    },
    {
      "cell_type": "code",
      "metadata": {
        "id": "giiYCpMTSBld"
      },
      "source": [
        "#transformation en matrice numpy seul reconnu par scikit learn\n",
        "data = pima.to_numpy()\n",
        "#séparation des données explicatives X et de la cible Y\n",
        "#X matrice des var. explicatives [:,0:8]\n",
        "X = data[:,0:7]\n",
        "#Y vecteur de la variable à prédire\n",
        "y = data[:,8]"
      ],
      "execution_count": 7,
      "outputs": []
    },
    {
      "cell_type": "markdown",
      "metadata": {
        "id": "TtP_eBrYLvWK"
      },
      "source": [
        "## 2- Scaling des données\n",
        "\n",
        "Les variables dans l'échantillon Pima ont des échelles différentes. Pour que les techniques de classification s'appliquent correctement, il est conseillé  soit de normaliser (StandardScaler) soit de mettre à l'échelle 0-1 (Min-Max) toutes les variables. Dans ce cas, on vous suggère de tester les deux cas comme suit:\n",
        "1. Séparer les données input X de l'output Y (Y ne \n",
        "doit pas être modifiée).\n",
        "2. Appliquer la méthode StandardScalar() comme suit:\n",
        "```\n",
        "x_normalized=preprocessing.StandardScaler().fit_transform(x)\n",
        "```\n",
        "3. Appliquer la méthode MinMaxdScalar() comme suit:\n",
        "```\n",
        "x_scaled=preprocessing.MinMasScaler().fit_transform(x)\n",
        "```"
      ]
    },
    {
      "cell_type": "code",
      "metadata": {
        "id": "83cFhV1IOfWC",
        "colab": {
          "base_uri": "https://localhost:8080/"
        },
        "outputId": "81c1579e-93b9-4b01-f36b-a259999356c7"
      },
      "source": [
        "line = \"=====\"*5\n",
        "\n",
        "#importer le module preprocessing\n",
        "from sklearn.preprocessing import StandardScaler, MinMaxScaler\n",
        "#appliquer la normalisation de x\n",
        "x_normalized=StandardScaler().fit_transform(X)\n",
        "\n",
        "#appliquer le scaling de X \n",
        "x_scaled=MinMaxScaler().fit_transform(X)\n",
        "\n",
        "#Afficher les premières lignes de X_normalized et x_scaled et noter l'intervalle des valeurs\n",
        "print(x_normalized[0:5,:])\n",
        "print(line)\n",
        "print(x_scaled[0:5,:])\n",
        "\n",
        "# Afficher X\n",
        "print(line)\n",
        "print(X[0:5,:])"
      ],
      "execution_count": 8,
      "outputs": [
        {
          "output_type": "stream",
          "name": "stdout",
          "text": [
            "[[-0.84372629 -1.12208597 -0.16024856  0.53202348 -0.69355921 -0.68372895\n",
            "  -0.36426474]\n",
            " [ 1.23423997  1.94447577 -0.26357823 -1.28688187 -0.69355921 -1.10230105\n",
            "   0.60470064]\n",
            " [-0.84372629 -0.99692019 -0.16024856  0.15569823  0.12235685 -0.49346891\n",
            "  -0.91968415]\n",
            " [-1.14057861  0.50506924 -1.50353429  0.90834872  0.76467376  1.40913155\n",
            "   5.48273197]\n",
            " [ 0.343683   -0.15205113  0.25307013 -1.28688187 -0.69355921 -0.81056898\n",
            "  -0.8170523 ]]\n",
            "=========================\n",
            "[[0.05882353 0.42713568 0.54098361 0.29292929 0.         0.39642325\n",
            "  0.11656704]\n",
            " [0.47058824 0.91959799 0.52459016 0.         0.         0.34724292\n",
            "  0.25362938]\n",
            " [0.05882353 0.44723618 0.54098361 0.23232323 0.11111111 0.41877794\n",
            "  0.03800171]\n",
            " [0.         0.68844221 0.32786885 0.35353535 0.19858156 0.64232489\n",
            "  0.94363792]\n",
            " [0.29411765 0.58291457 0.60655738 0.         0.         0.38152012\n",
            "  0.05251921]]\n",
            "=========================\n",
            "[[1.000e+00 8.500e+01 6.600e+01 2.900e+01 0.000e+00 2.660e+01 3.510e-01]\n",
            " [8.000e+00 1.830e+02 6.400e+01 0.000e+00 0.000e+00 2.330e+01 6.720e-01]\n",
            " [1.000e+00 8.900e+01 6.600e+01 2.300e+01 9.400e+01 2.810e+01 1.670e-01]\n",
            " [0.000e+00 1.370e+02 4.000e+01 3.500e+01 1.680e+02 4.310e+01 2.288e+00]\n",
            " [5.000e+00 1.160e+02 7.400e+01 0.000e+00 0.000e+00 2.560e+01 2.010e-01]]\n"
          ]
        }
      ]
    },
    {
      "cell_type": "markdown",
      "metadata": {
        "id": "OOeunJk8DW9l"
      },
      "source": [
        "## 3- Découpage des données\n",
        "\n",
        "1. Découper  les données `x_nomalized` et `x_scaled` en données train et test avec la fonction **train_test_split** du module **model_selection** de pandas. La taille de l’échantillon test est égale à 300 (paramètre test_size de la fonction `train_test_split`).\n",
        "Effectuer ce découpage afin de créer (x1_train, y1_train) à partir de  `x_nomalized` et (x2_train, y2_train) à partir de `x_scaled`.\n",
        "\n",
        "2. Afficher les structures des ensembles crées en utilisant la propriété  `shape` de chaque vecteur."
      ]
    },
    {
      "cell_type": "code",
      "metadata": {
        "id": "6rq_VPthDvL2",
        "colab": {
          "base_uri": "https://localhost:8080/"
        },
        "outputId": "f0c784a4-768d-4259-ae31-39a7b0c96597"
      },
      "source": [
        "import numpy as np\n",
        "np.random.seed(5)\n",
        "\n",
        "tsize = 300/(300+468)\n",
        "\n",
        "#Subdivision des données en données train et test avec la fonction train_test_split du module model_selection de pandas\n",
        "#importation du module model_selection de scikit learn\n",
        "from sklearn.model_selection import train_test_split\n",
        "#subdivision des données éch.test = 300 ; éch.app = 468\n",
        "x0_train,x0_test,y0_train,y0_test = train_test_split(X, y, test_size=tsize) #à partir de la matrice X sans preprocessing\n",
        "x1_train,x1_test,y1_train,y1_test = train_test_split(x_normalized, y, test_size=tsize) #à partir de x_normalized\n",
        "x2_train,x2_test,y2_train,y2_test = train_test_split(x_scaled, y, test_size=0.3)  # à partir de x_scaled\n",
        "print(line)\n",
        "print(\"DONNEES SIMPLES\")\n",
        "print(x0_train.shape, x0_test.shape, y0_train.shape, y0_test.shape)\n",
        "print(x0_train[:10])\n",
        "print(y0_train[:10])\n",
        "print(line)\n",
        "print(\"Avec STANDARD SCALER\")\n",
        "print(x1_train.shape, x1_test.shape, y1_train.shape, y1_test.shape)\n",
        "print(x1_train[:10])\n",
        "print(y1_train[:10])\n",
        "print(line)\n",
        "print(\"Avec MIN MAX SCALER\")\n",
        "print(x2_train.shape, x2_test.shape, y2_train.shape, y2_test.shape)\n",
        "print(x2_train[:10])\n",
        "print(y2_train[:10])"
      ],
      "execution_count": 9,
      "outputs": [
        {
          "output_type": "stream",
          "name": "stdout",
          "text": [
            "=========================\n",
            "DONNEES SIMPLES\n",
            "(467, 7) (300, 7) (467,) (300,)\n",
            "[[1.000e+00 1.810e+02 7.800e+01 4.200e+01 2.930e+02 4.000e+01 1.258e+00]\n",
            " [5.000e+00 1.240e+02 7.400e+01 0.000e+00 0.000e+00 3.400e+01 2.200e-01]\n",
            " [1.000e+00 1.470e+02 9.400e+01 4.100e+01 0.000e+00 4.930e+01 3.580e-01]\n",
            " [3.000e+00 1.110e+02 6.200e+01 0.000e+00 0.000e+00 2.260e+01 1.420e-01]\n",
            " [5.000e+00 7.800e+01 4.800e+01 0.000e+00 0.000e+00 3.370e+01 6.540e-01]\n",
            " [6.000e+00 8.000e+01 6.600e+01 3.000e+01 0.000e+00 2.620e+01 3.130e-01]\n",
            " [1.000e+00 7.700e+01 5.600e+01 3.000e+01 5.600e+01 3.330e+01 1.251e+00]\n",
            " [0.000e+00 1.460e+02 8.200e+01 0.000e+00 0.000e+00 4.050e+01 1.781e+00]\n",
            " [8.000e+00 6.500e+01 7.200e+01 2.300e+01 0.000e+00 3.200e+01 6.000e-01]\n",
            " [1.000e+00 1.220e+02 6.400e+01 3.200e+01 1.560e+02 3.510e+01 6.920e-01]]\n",
            "[1. 1. 1. 0. 0. 0. 0. 0. 0. 1.]\n",
            "=========================\n",
            "Avec STANDARD SCALER\n",
            "(467, 7) (300, 7) (467,) (300,)\n",
            "[[-2.50021644e-01  3.56975430e-02  4.59729470e-01 -1.28688187e+00\n",
            "  -6.93559212e-01 -1.14035306e+00 -6.57067363e-01]\n",
            " [-1.14057861e+00  5.05069238e-01 -1.50353429e+00  9.08348721e-01\n",
            "   7.64673758e-01  1.40913155e+00  5.48273197e+00]\n",
            " [-8.43726291e-01  7.86692254e-01 -6.76896915e-01 -1.28688187e+00\n",
            "  -6.93559212e-01 -2.90524857e-01  2.78693597e-01]\n",
            " [ 3.43683003e-01  2.13222445e+00 -2.63578230e-01  7.82906973e-01\n",
            "   2.12742719e+00 -1.00264811e-01  3.36046689e-01]\n",
            " [ 3.43683003e-01  2.23446221e-01  5.63059142e-01 -1.28688187e+00\n",
            "  -6.93559212e-01  3.30991291e-01 -9.89111575e-01]\n",
            " [-5.46873968e-01 -4.02382705e-01 -3.66907901e-01 -6.59673130e-01\n",
            "   1.71946916e+00 -8.48620990e-01  1.23558464e+00]\n",
            " [-1.14057861e+00  1.28735540e+00  3.56399799e-01  2.22548708e+00\n",
            "   1.74436604e-01  2.69021585e+00  8.67317427e-01]\n",
            " [-8.43726291e-01  1.60863328e-01 -4.70237573e-01 -1.28688187e+00\n",
            "  -6.93559212e-01 -2.39788845e-01 -3.70301907e-01]\n",
            " [ 4.68306795e-02 -8.09171507e-01 -2.63578230e-01 -1.28688187e+00\n",
            "  -6.93559212e-01  1.20721280e-03 -9.37795651e-01]\n",
            " [-5.46873968e-01 -1.83342581e-01 -2.63578230e-01  9.29773582e-02\n",
            "  -6.93559212e-01 -1.51000824e-01 -1.52963878e-01]]\n",
            "[0. 1. 0. 1. 0. 0. 1. 1. 1. 0.]\n",
            "=========================\n",
            "Avec MIN MAX SCALER\n",
            "(536, 7) (231, 7) (536,) (231,)\n",
            "[[0.52941176 0.59798995 0.6557377  0.35353535 0.         0.43219076\n",
            "  0.07899231]\n",
            " [0.11764706 0.45226131 0.49180328 0.         0.         0.35022355\n",
            "  0.04824936]\n",
            " [0.11764706 0.60301508 0.44262295 0.         0.         0.39940387\n",
            "  0.16097353]\n",
            " [0.35294118 0.57286432 0.         0.         0.         0.\n",
            "  0.04739539]\n",
            " [0.11764706 0.79396985 0.73770492 0.         0.         0.4709389\n",
            "  0.31041845]\n",
            " [0.58823529 0.57788945 0.80327869 0.         0.         0.35767511\n",
            "  0.4030743 ]\n",
            " [0.         0.68844221 0.68852459 0.27272727 0.         0.40685544\n",
            "  0.06532878]\n",
            " [0.05882353 0.69849246 0.50819672 0.41414141 0.56737589 0.60655738\n",
            "  0.19555935]\n",
            " [0.17647059 0.79396985 0.52459016 0.13131313 0.45744681 0.46497765\n",
            "  0.09265585]\n",
            " [0.23529412 0.54773869 0.52459016 0.44444444 0.11702128 0.51862891\n",
            "  0.35311699]]\n",
            "[1. 0. 0. 0. 1. 0. 0. 0. 0. 1.]\n"
          ]
        }
      ]
    },
    {
      "cell_type": "markdown",
      "metadata": {
        "id": "qLF_lHOZEfJM"
      },
      "source": [
        "# IV - Classification avec le modèle de régression logistique\n",
        "Comme première approche de classification, nous utiliserons la régression logistique.\n",
        "\n",
        "1-A partir du module `linear_model` du package sklearn, importer la classe `LogisticRegression`.\n",
        "\n",
        "2- Créer une instance de la classe `LogisticRegression`.\n",
        "\n",
        "3- Exécuter l'instance sur les données d'apprentissage `x1_train` afin de construire votre premier modèle prédictif que vous appellerez « modèle_LR1 ».  Pour ce faire, il faut exécuter la fonction fit de la classe LogisticRegression qui prend comme argument les ensembles les données explicatives `x1_train` et les données cibles `y1_train`. Refaire la même chose avec `x2_train` et `y1_train` pour obtenir le modèle « modèle_LR2 »\n",
        "\n",
        "4- Appliquer les modèles générés sur les données tests `x_test` à travers la fonction `predict'.\n",
        "\n",
        "5- Importer le module seaborn `import seaborn as sns`\n",
        "\n",
        "6- Afficher la matrice de confusion.\n",
        "\n",
        "\n"
      ]
    },
    {
      "cell_type": "code",
      "metadata": {
        "id": "-S9qwkaDEflv",
        "colab": {
          "base_uri": "https://localhost:8080/"
        },
        "outputId": "5cf3c159-2bbb-44df-e5b1-e4570c4ef8d3"
      },
      "source": [
        "#importer la classe LogisticRegression\n",
        "from sklearn.linear_model import LogisticRegression\n",
        "#création d'une instance de la classe\n",
        "LR= LogisticRegression()\n",
        "#exécution de l'instance sur les données d'apprentissage x1_train et x2_train\n",
        "#c.à d . construction du modèle prédictif\n",
        "modele_LR0=LR.fit(x0_train, y0_train)\n",
        "modele_LR1=LR.fit(x1_train, y1_train)\n",
        "modele_LR2=LR.fit(x2_train, y2_train)\n",
        "#application des modèles sur les données test\n",
        "y0_pred=modele_LR0.predict(x0_test)\n",
        "y1_pred=modele_LR1.predict(x1_test)\n",
        "y2_pred=modele_LR2.predict(x2_test)\n",
        "#Calculer les scores des modèles\n",
        "#Importer le module metric\n",
        "from sklearn import metrics\n",
        "model_lr0_score=metrics.accuracy_score(y0_pred, y0_test)\n",
        "model_lr1_score=metrics.accuracy_score(y1_pred, y1_test)\n",
        "model_lr2_score=metrics.accuracy_score(y2_pred, y2_test)\n",
        "\n",
        "#Affichier les ascores Que remarquez vous?\n",
        "print(\"accuracy without preprocessing :\", round(model_lr0_score*100,2), \"%\")\n",
        "print(\"accuracy standard scaler :\", round(model_lr1_score*100,2), \"%\")\n",
        "print(\"accuracy min max scaler :\", round(model_lr2_score*100,2), \"%\")\n",
        "\n",
        "#\n",
        "#importer le module seaborn (pour la matrice de confusion)\n",
        "import seaborn as sns\n",
        "#création de la matrice de confusion\n",
        "matrix_LR0 = metrics.confusion_matrix(y0_test, y0_pred)\n",
        "matrix_LR1 = metrics.confusion_matrix(y1_test, y1_pred)\n",
        "matrix_LR2 = metrics.confusion_matrix(y2_test, y2_pred)\n",
        "\n",
        "print(line)\n",
        "print(\"MATRICE DE CONFUSION SANS PREPROCESSING\")\n",
        "print(matrix_LR0)\n",
        "print(line)\n",
        "print(\"MATRICE DE CONFUSION STANDARD SCALER\")\n",
        "print(matrix_LR1)\n",
        "print(line)\n",
        "print(\"MATRICE DE CONFUSION MIN MAX SCALER\")\n",
        "print(matrix_LR2)\n"
      ],
      "execution_count": 10,
      "outputs": [
        {
          "output_type": "stream",
          "name": "stdout",
          "text": [
            "accuracy without preprocessing : 36.0 %\n",
            "accuracy standard scaler : 79.33 %\n",
            "accuracy min max scaler : 78.35 %\n",
            "=========================\n",
            "MATRICE DE CONFUSION SANS PREPROCESSING\n",
            "[[  0 192]\n",
            " [  0 108]]\n",
            "=========================\n",
            "MATRICE DE CONFUSION STANDARD SCALER\n",
            "[[184   9]\n",
            " [ 53  54]]\n",
            "=========================\n",
            "MATRICE DE CONFUSION MIN MAX SCALER\n",
            "[[144  16]\n",
            " [ 34  37]]\n"
          ]
        },
        {
          "output_type": "stream",
          "name": "stderr",
          "text": [
            "/usr/local/lib/python3.7/dist-packages/sklearn/linear_model/_logistic.py:818: ConvergenceWarning: lbfgs failed to converge (status=1):\n",
            "STOP: TOTAL NO. of ITERATIONS REACHED LIMIT.\n",
            "\n",
            "Increase the number of iterations (max_iter) or scale the data as shown in:\n",
            "    https://scikit-learn.org/stable/modules/preprocessing.html\n",
            "Please also refer to the documentation for alternative solver options:\n",
            "    https://scikit-learn.org/stable/modules/linear_model.html#logistic-regression\n",
            "  extra_warning_msg=_LOGISTIC_SOLVER_CONVERGENCE_MSG,\n"
          ]
        }
      ]
    },
    {
      "cell_type": "code",
      "source": [
        "import seaborn as sns\n",
        "import matplotlib.pyplot as plt\n",
        "#plot confusion matrix\n",
        "print(\"#Confusion matrix#\")\n",
        "labels = [\"Diabète\", \"Pas-diabète\"]\n",
        "#Regression logistique\n",
        "print(matrix_LR1)\n",
        "sns.heatmap(matrix_LR1, square=True, annot=True, cbar=False, xticklabels=list(labels), yticklabels=list(labels))\n",
        "plt.xlabel('valeurs prédites')\n",
        "plt.ylabel('valeurs réelles')\n",
        "plt.title(\"Regression Logistique\")\n",
        "\n",
        "plt.show()"
      ],
      "metadata": {
        "colab": {
          "base_uri": "https://localhost:8080/",
          "height": 348
        },
        "id": "vEfktskLJfp0",
        "outputId": "8f52a8bd-458f-4869-a07a-bc97428186a8"
      },
      "execution_count": 11,
      "outputs": [
        {
          "output_type": "stream",
          "name": "stdout",
          "text": [
            "#Confusion matrix#\n",
            "[[184   9]\n",
            " [ 53  54]]\n"
          ]
        },
        {
          "output_type": "display_data",
          "data": {
            "text/plain": [
              "<Figure size 432x288 with 1 Axes>"
            ],
            "image/png": "[encoded data removed]"
          },
          "metadata": {
            "needs_background": "light"
          }
        }
      ]
    },
    {
      "cell_type": "markdown",
      "metadata": {
        "id": "MyiXvb8cBsU-"
      },
      "source": [
        "Pour la suite du TP, vous garderez que les données normalisées (x1_train et y1_train) qui seront renommées x_train et x_test"
      ]
    },
    {
      "cell_type": "code",
      "metadata": {
        "id": "nu3K_hxtDetF"
      },
      "source": [
        "x_train=x1_train\n",
        "y_train=y1_train\n",
        "x_test=x1_test\n",
        "y_test=y1_test"
      ],
      "execution_count": 12,
      "outputs": []
    },
    {
      "cell_type": "markdown",
      "metadata": {
        "id": "ZlhX-zLYUg7p"
      },
      "source": [
        "# V- Classificatin par arbre de décision\n",
        "Comme deusième approche de classification, nous utiliserons l'arbre de décision.\n",
        "\n",
        "1-A partir du module tree du package sklearn, importer la classe DecisionTreeClassifier.\n",
        "\n",
        "2- Créer une instance de la classe `DecisionTreeClassifier`.\n",
        "\n",
        "3- Exécuter l'instance sur les données d'apprentissage `x_train` afin de construire votre deuxième modèle prédictif que vous appellerez « modèle_DT ».  Pour ce faire, il faut exécuter la fonction fit de la classe DecisionTreeClassifier qui prend comme argument les ensembles les données explicatives `x_train` et les données cibles `y_train`.\n",
        "\n",
        "4- Appliquer le modèle généré sur les données tests `x_test` à travers la fonction `predict`.\n",
        "\n",
        "5- Afficher la matrice de confusion."
      ]
    },
    {
      "cell_type": "code",
      "metadata": {
        "id": "alE6SAB0XRWJ",
        "colab": {
          "base_uri": "https://localhost:8080/"
        },
        "outputId": "9a95ce3c-a984-4b30-8560-8c090b5ffa56"
      },
      "source": [
        "#importer la classe decisionTreeClassifier\n",
        "from sklearn.tree import DecisionTreeClassifier\n",
        "#création d'une instance de la classe\n",
        "tree = DecisionTreeClassifier()\n",
        "#exécution de l'instance sur les données d'apprentissage\n",
        "#c.à d . construction du modèle prédictif\n",
        "modele_tree0 = tree.fit(x0_train, y0_train)\n",
        "modele_tree1 = tree.fit(x1_train, y1_train)\n",
        "modele_tree2 = tree.fit(x2_train, y2_train)\n",
        "\n",
        "#test du modèle sur les données test\n",
        "y0_pred = modele_tree0.predict(x0_test)\n",
        "y1_pred = modele_tree1.predict(x1_test)\n",
        "y2_pred = modele_tree2.predict(x2_test)\n",
        "\n",
        "#création de la matrice de confusion\n",
        "matrix_tree0 = metrics.confusion_matrix(y0_test, y0_pred)\n",
        "matrix_tree1 = metrics.confusion_matrix(y1_test, y1_pred)\n",
        "matrix_tree2 = metrics.confusion_matrix(y2_test, y2_pred)\n",
        "\n",
        "# calcul des accuracy\n",
        "model_tree0_score=metrics.accuracy_score(y0_pred, y0_test)\n",
        "model_tree1_score=metrics.accuracy_score(y1_pred, y1_test)\n",
        "model_tree2_score=metrics.accuracy_score(y2_pred, y2_test)\n",
        "\n",
        "#Affichier les ascores Que remarquez vous?\n",
        "print(\"accuracy without preprocessing :\", round(model_tree0_score*100,2), \"%\")\n",
        "print(\"accuracy standard scaler :\", round(model_tree1_score*100,2), \"%\")\n",
        "print(\"accuracy min max scaler :\", round(model_tree2_score*100,2), \"%\")\n",
        "\n",
        "print(line)\n",
        "print(\"MATRICE DE CONFUSION SANS PREPROCESSING\")\n",
        "print(matrix_tree0)\n",
        "print(line)\n",
        "print(\"MATRICE DE CONFUSION STANDARD SCALER\")\n",
        "print(matrix_tree1)\n",
        "print(line)\n",
        "print(\"MATRICE DE CONFUSION MIN MAX SCALER\")\n",
        "print(matrix_tree2)"
      ],
      "execution_count": 13,
      "outputs": [
        {
          "output_type": "stream",
          "name": "stdout",
          "text": [
            "accuracy without preprocessing : 37.67 %\n",
            "accuracy standard scaler : 70.33 %\n",
            "accuracy min max scaler : 70.56 %\n",
            "=========================\n",
            "MATRICE DE CONFUSION SANS PREPROCESSING\n",
            "[[ 37 155]\n",
            " [ 32  76]]\n",
            "=========================\n",
            "MATRICE DE CONFUSION STANDARD SCALER\n",
            "[[169  24]\n",
            " [ 65  42]]\n",
            "=========================\n",
            "MATRICE DE CONFUSION MIN MAX SCALER\n",
            "[[126  34]\n",
            " [ 34  37]]\n"
          ]
        }
      ]
    },
    {
      "cell_type": "markdown",
      "metadata": {
        "id": "y7maUda7aiKw"
      },
      "source": [
        "# VI- Classification par la forêt d'arbres\n",
        "Comme troisième approche de classification, nous utiliserons un forêt d'arbre de décision.\n",
        "\n",
        "1-A partir du module `ensemble` du package sklearn, importer la classe `RandomForestClassifier`.\n",
        "\n",
        "2- Créer une instance de la classe `RandomForestClassifier`.\n",
        "\n",
        "3- Exécuter l'instance sur les données d'apprentissage `x_train` afin de construire votre Troisième modèle prédictif que vous appellerez « modèle_RF ».  Pour ce faire, il faut exécuter la fonction fit de la classe RandomForestClassifier qui prend comme argument les ensembles les données explicatives `x_train` et les données cibles `y_train`.\n",
        "\n",
        "4- Appliquer le modèle généré sur les données tests `x_test` à travers la fonction `predict`.\n",
        "\n",
        "5- Afficher la matrice de confusion."
      ]
    },
    {
      "cell_type": "code",
      "metadata": {
        "id": "9nkaYRcnbwyi",
        "colab": {
          "base_uri": "https://localhost:8080/"
        },
        "outputId": "17884dc7-4927-46c6-af96-658ecc9d8547"
      },
      "source": [
        "#importer la classe RandomForestClassifier\n",
        "from sklearn.ensemble import RandomForestClassifier\n",
        "#création d'une instance de la classe\n",
        "rfc = RandomForestClassifier()\n",
        "#exécution de l'instance sur les données d'apprentissage\n",
        "#c.à d . construction du modèle prédictif\n",
        "modele_rfc0 = rfc.fit(x0_train, y0_train)\n",
        "modele_rfc1 = rfc.fit(x1_train, y1_train)\n",
        "modele_rfc2 = rfc.fit(x2_train, y2_train)\n",
        "\n",
        "#test du modèle sur les données test\n",
        "y0_pred = modele_rfc0.predict(x0_test)\n",
        "y1_pred = modele_rfc1.predict(x1_test)\n",
        "y2_pred = modele_rfc2.predict(x2_test)\n",
        "\n",
        "#création de la matrice de confusion\n",
        "matrix_rfc0 = metrics.confusion_matrix(y0_test, y0_pred)\n",
        "matrix_rfc1 = metrics.confusion_matrix(y1_test, y1_pred)\n",
        "matrix_rfc2 = metrics.confusion_matrix(y2_test, y2_pred)\n",
        "\n",
        "# calcul des accuracy\n",
        "model_rfc0_score=metrics.accuracy_score(y0_pred, y0_test)\n",
        "model_rfc1_score=metrics.accuracy_score(y1_pred, y1_test)\n",
        "model_rfc2_score=metrics.accuracy_score(y2_pred, y2_test)\n",
        "\n",
        "#Affichier les ascores Que remarquez vous?\n",
        "print(\"accuracy without preprocessing :\", round(model_rfc0_score*100,2), \"%\")\n",
        "print(\"accuracy standard scaler :\", round(model_rfc1_score*100,2), \"%\")\n",
        "print(\"accuracy min max scaler :\", round(model_rfc2_score*100,2), \"%\")\n",
        "\n",
        "print(line)\n",
        "print(\"MATRICE DE CONFUSION SANS PREPROCESSING\")\n",
        "print(matrix_rfc0)\n",
        "print(line)\n",
        "print(\"MATRICE DE CONFUSION STANDARD SCALER\")\n",
        "print(matrix_rfc1)\n",
        "print(line)\n",
        "print(\"MATRICE DE CONFUSION MIN MAX SCALER\")\n",
        "print(matrix_rfc2)"
      ],
      "execution_count": 14,
      "outputs": [
        {
          "output_type": "stream",
          "name": "stdout",
          "text": [
            "accuracy without preprocessing : 36.0 %\n",
            "accuracy standard scaler : 73.0 %\n",
            "accuracy min max scaler : 76.19 %\n",
            "=========================\n",
            "MATRICE DE CONFUSION SANS PREPROCESSING\n",
            "[[  0 192]\n",
            " [  0 108]]\n",
            "=========================\n",
            "MATRICE DE CONFUSION STANDARD SCALER\n",
            "[[176  17]\n",
            " [ 64  43]]\n",
            "=========================\n",
            "MATRICE DE CONFUSION MIN MAX SCALER\n",
            "[[133  27]\n",
            " [ 28  43]]\n"
          ]
        }
      ]
    },
    {
      "cell_type": "markdown",
      "metadata": {
        "id": "Z30ABeJUYJkD"
      },
      "source": [
        "# VII- Classification par les SVM\n",
        "Comme quatrième approche de classification, nous utiliserons les SVM.\n",
        "\n",
        "1-A partir du module `svm` du package sklearn, importer la classe `SVC`.\n",
        "\n",
        "2- Créer une instance de la classe `SVC` de `sklearn.svm`.\n",
        "\n",
        "3- Exécuter l'instance sur les données d'apprentissage `x_train` afin de construire votre quatrième modèle prédictif que vous appellerez « modèle_SVM ».  Pour ce faire, il faut exécuter la fonction fit de la classe SVC.\n",
        "\n",
        "4- Appliquer le modèle généré sur les données tests `x_test` à travers la fonction `predict`.\n",
        "\n",
        "5- Afficher la matrice de confusion."
      ]
    },
    {
      "cell_type": "code",
      "metadata": {
        "id": "560yCmqUYtmI",
        "colab": {
          "base_uri": "https://localhost:8080/"
        },
        "outputId": "4439a92e-4aea-4e83-f4c3-085c6ff0d05c"
      },
      "source": [
        "#importer la classe SVC\n",
        "from sklearn.svm import SVC\n",
        "#création d'une instance de la classe\n",
        "SVC = SVC()\n",
        "#exécution de l'instance sur les données d'apprentissage\n",
        "#c.à d . construction du modèle prédictif\n",
        "#c.à d . construction du modèle prédictif\n",
        "modele_svc0 = SVC.fit(x0_train, y0_train)\n",
        "modele_svc1 = SVC.fit(x1_train, y1_train)\n",
        "modele_svc2 = SVC.fit(x2_train, y2_train)\n",
        "\n",
        "#test du modèle sur les données test\n",
        "y0_pred = modele_svc0.predict(x0_test)\n",
        "y1_pred = modele_svc1.predict(x1_test)\n",
        "y2_pred = modele_svc2.predict(x2_test)\n",
        "\n",
        "#création de la matrice de confusion\n",
        "matrix_svc0 = metrics.confusion_matrix(y0_test, y0_pred)\n",
        "matrix_svc1 = metrics.confusion_matrix(y1_test, y1_pred)\n",
        "matrix_svc2 = metrics.confusion_matrix(y2_test, y2_pred)\n",
        "\n",
        "# calcul des accuracy\n",
        "model_svc0_score=metrics.accuracy_score(y0_pred, y0_test)\n",
        "model_svc1_score=metrics.accuracy_score(y1_pred, y1_test)\n",
        "model_svc2_score=metrics.accuracy_score(y2_pred, y2_test)\n",
        "\n",
        "#Affichier les ascores Que remarquez vous?\n",
        "print(\"accuracy without preprocessing :\", round(model_svc0_score*100,2), \"%\")\n",
        "print(\"accuracy standard scaler :\", round(model_svc1_score*100,2), \"%\")\n",
        "print(\"accuracy min max scaler :\", round(model_svc2_score*100,2), \"%\")\n",
        "\n",
        "print(line)\n",
        "print(\"MATRICE DE CONFUSION SANS PREPROCESSING\")\n",
        "print(matrix_svc0)\n",
        "print(line)\n",
        "print(\"MATRICE DE CONFUSION STANDARD SCALER\")\n",
        "print(matrix_svc1)\n",
        "print(line)\n",
        "print(\"MATRICE DE CONFUSION MIN MAX SCALER\")\n",
        "print(matrix_svc2)"
      ],
      "execution_count": 15,
      "outputs": [
        {
          "output_type": "stream",
          "name": "stdout",
          "text": [
            "accuracy without preprocessing : 36.0 %\n",
            "accuracy standard scaler : 35.67 %\n",
            "accuracy min max scaler : 78.79 %\n",
            "=========================\n",
            "MATRICE DE CONFUSION SANS PREPROCESSING\n",
            "[[  0 192]\n",
            " [  0 108]]\n",
            "=========================\n",
            "MATRICE DE CONFUSION STANDARD SCALER\n",
            "[[  0 193]\n",
            " [  0 107]]\n",
            "=========================\n",
            "MATRICE DE CONFUSION MIN MAX SCALER\n",
            "[[141  19]\n",
            " [ 30  41]]\n"
          ]
        }
      ]
    },
    {
      "cell_type": "markdown",
      "metadata": {
        "id": "XpSiqjGzaEWo"
      },
      "source": [
        "# VIII- Validation des modèles\n",
        "\n",
        "1. Calculer le score de chaque modèle généré et l'ajouter dans une liste\n",
        "\n",
        "2. Afficher la courbe des scores \"AccuracyScore\"\n",
        "\n",
        "Comparer les résultats"
      ]
    },
    {
      "cell_type": "code",
      "metadata": {
        "id": "JD9h-DIZafyb",
        "colab": {
          "base_uri": "https://localhost:8080/",
          "height": 386
        },
        "outputId": "493f867f-5128-4c92-839c-52128e785a1e"
      },
      "source": [
        "#Calculer les accuracy des modèles\n",
        "#Ajouter tous les scores à une liste\n",
        "scores_lr = [model_lr0_score, model_lr1_score, model_lr2_score]\n",
        "scores_tree = [model_tree0_score, model_tree1_score, model_tree2_score]\n",
        "scores_rfc = [model_rfc0_score, model_rfc1_score, model_rfc2_score]\n",
        "scores_svm = [model_svc0_score, model_svc1_score, model_svc2_score]\n",
        "\n",
        "#Importer Pyplot\n",
        "import matplotlib.pyplot as plt\n",
        "#Afficher la liste des scores dans une courbe\n",
        "X_labels = [\"X\", \"X_normalized\", \"X_scaled\"]\n",
        "plt.plot(X_labels, scores_lr, label=\"LR\")\n",
        "plt.plot(X_labels, scores_tree, label=\"Decision Tree\")\n",
        "plt.plot(X_labels, scores_rfc, label=\"Random Forest\")\n",
        "plt.plot(X_labels, scores_svm, label=\"SVM\")\n",
        "plt.title(\"Accuracy scores par méthodes\")\n",
        "plt.legend()\n",
        "plt.show()\n",
        "\n",
        "acc = np.array([scores_lr, scores_tree, scores_rfc, scores_svm])\n",
        "accuracy_table = pd.DataFrame(acc, columns = X_labels, index=[\"LR\", \"Decison Tree\", \"Random Forest\", \"SVM\"])\n",
        "print(line)\n",
        "print(accuracy_table)"
      ],
      "execution_count": 16,
      "outputs": [
        {
          "output_type": "display_data",
          "data": {
            "text/plain": [
              "<Figure size 432x288 with 1 Axes>"
            ],
            "image/png": "[encoded data removed]"
          },
          "metadata": {
            "needs_background": "light"
          }
        },
        {
          "output_type": "stream",
          "name": "stdout",
          "text": [
            "=========================\n",
            "                      X  X_normalized  X_scaled\n",
            "LR             0.360000      0.793333  0.783550\n",
            "Decison Tree   0.376667      0.703333  0.705628\n",
            "Random Forest  0.360000      0.730000  0.761905\n",
            "SVM            0.360000      0.356667  0.787879\n"
          ]
        }
      ]
    },
    {
      "cell_type": "markdown",
      "metadata": {
        "id": "C-wqlUpRDttc"
      },
      "source": [
        "IX - Validation croisée\n",
        "Reprendre l'étape III-3 pour tester maintenant les modèles avec la validation croisée.\n",
        "```\n",
        "from sklearn.model_selection import cross_validate\n",
        "from sklearn.model_selection import ShuffleSplit\n",
        "cv = ShuffleSplit(n_splits=30, test_size=0.3, random_state=0)\n",
        "```\n",
        "Les modèles d'apprentissage sont ensuite appliqués sur les échantillons des données (ex pour Logistic Regression) \n",
        "```\n",
        "cv_results = cross_validate(\n",
        "    LogisticRegression, x_train, x_test, cv=cv, scoring=\"accuracy_score\")\n",
        "```\n",
        "\n"
      ]
    },
    {
      "cell_type": "code",
      "source": [
        "from sklearn.model_selection import cross_validate\n",
        "from sklearn.model_selection import ShuffleSplit\n",
        "cv = ShuffleSplit(n_splits=10, test_size=0.3, random_state=0)\n",
        "cv_results1 = cross_validate(modele_LR1, x1_train, y1_train, cv=cv, scoring=\"accuracy\")\n",
        "cv_results1 = pd.DataFrame(cv_results1)\n",
        "print(\"VALIDATION CROISEE AVEC DONNEES STANDARDISEES SUR LE MODELE DE REGRESSION LOGISTIQUE \")\n",
        "print(cv_results1)\n",
        "\n",
        "cv_results2 = cross_validate(modele_LR2, x2_train, y2_train, cv=cv, scoring=\"accuracy\")\n",
        "cv_results2 = pd.DataFrame(cv_results2)\n",
        "print(line)\n",
        "print(\"VALIDATION CROISEE AVEC DONNEES SCALED SUR LE MODELE DE REGRESSION LOGISTIQUE \")\n",
        "print(cv_results2)\n",
        "\n",
        "print(line)\n",
        "plt.plot(cv_results1[\"test_score\"], label=\"X_Standardized\")\n",
        "plt.plot(cv_results2[\"test_score\"], label=\"X_Scaled\")\n",
        "plt.title(\"Evolution des tests scores pour la validation croise\")\n",
        "plt.legend()\n",
        "plt.show()"
      ],
      "metadata": {
        "id": "zRdBDEhiiOoV",
        "colab": {
          "base_uri": "https://localhost:8080/",
          "height": 732
        },
        "outputId": "7c07782d-258d-4fee-802b-181d91d4a79d"
      },
      "execution_count": 36,
      "outputs": [
        {
          "output_type": "stream",
          "name": "stdout",
          "text": [
            "VALIDATION CROISEE AVEC DONNEES STANDARDISEES SUR LE MODELE DE REGRESSION LOGISTIQUE \n",
            "   fit_time  score_time  test_score\n",
            "0  0.008992    0.000853    0.744681\n",
            "1  0.007354    0.000768    0.744681\n",
            "2  0.003983    0.000444    0.758865\n",
            "3  0.003605    0.000437    0.801418\n",
            "4  0.003468    0.000427    0.765957\n",
            "5  0.003433    0.000417    0.758865\n",
            "6  0.003731    0.000445    0.765957\n",
            "7  0.003457    0.000406    0.787234\n",
            "8  0.003865    0.000419    0.787234\n",
            "9  0.003668    0.000434    0.773050\n",
            "=========================\n",
            "VALIDATION CROISEE AVEC DONNEES SCALED SUR LE MODELE DE REGRESSION LOGISTIQUE \n",
            "   fit_time  score_time  test_score\n",
            "0  0.004997    0.000452    0.732919\n",
            "1  0.004778    0.000481    0.782609\n",
            "2  0.004730    0.000447    0.757764\n",
            "3  0.005670    0.000504    0.732919\n",
            "4  0.005337    0.000515    0.801242\n",
            "5  0.005820    0.000480    0.763975\n",
            "6  0.005302    0.000427    0.739130\n",
            "7  0.005764    0.000452    0.708075\n",
            "8  0.005292    0.000436    0.726708\n",
            "9  0.004895    0.000477    0.801242\n",
            "=========================\n"
          ]
        },
        {
          "output_type": "display_data",
          "data": {
            "text/plain": [
              "<Figure size 432x288 with 1 Axes>"
            ],
            "image/png": "[encoded data removed]"
          },
          "metadata": {
            "needs_background": "light"
          }
        }
      ]
    },
    {
      "cell_type": "code",
      "source": [],
      "metadata": {
        "id": "LZzWXnOjKtvI"
      },
      "execution_count": 22,
      "outputs": []
    }
  ]
}