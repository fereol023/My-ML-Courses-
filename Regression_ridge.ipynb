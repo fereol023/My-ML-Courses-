{
  "nbformat": 4,
  "nbformat_minor": 0,
  "metadata": {
    "colab": {
      "provenance": [],
      "collapsed_sections": [],
      "authorship_tag": "ABX9TyPMd3r10soHbE3hNgmnCm4H",
      "include_colab_link": true
    },
    "kernelspec": {
      "name": "python3",
      "display_name": "Python 3"
    },
    "language_info": {
      "name": "python"
    }
  },
  "cells": [
    {
      "cell_type": "markdown",
      "metadata": {
        "id": "view-in-github",
        "colab_type": "text"
      },
      "source": [
        "<a href=\"https://colab.research.google.com/github/fereol023/My-ML-Courses-/blob/main/Regression_ridge.ipynb\" target=\"_parent\"><img src=\"https://colab.research.google.com/assets/colab-badge.svg\" alt=\"Open In Colab\"/></a>"
      ]
    },
    {
      "cell_type": "code",
      "execution_count": 1,
      "metadata": {
        "id": "pxBehRO5OesR"
      },
      "outputs": [],
      "source": [
        "import matplotlib.pyplot as plt\n",
        "import numpy as np\n",
        "import pandas as pd\n",
        "from sklearn.preprocessing import PolynomialFeatures\n",
        "from sklearn.linear_model import LinearRegression\n",
        "from sklearn.metrics import mean_squared_error"
      ]
    },
    {
      "cell_type": "markdown",
      "source": [
        "Simuler des données qui correspondent à n=30 observations bruitées du polynôme de degré 5, d’équation f(x)=1−x+2x^2−0.8x^3+0.6x^4−x^5, pour des points xi=i/n,i=1,…,n et un bruit gaussien d’écart-type σ=0.05.\n",
        "\n",
        "Ajuster un polynôme de degré p=31 sur les données.\n",
        "\n",
        "Visualiser de la fonction ajustée."
      ],
      "metadata": {
        "id": "BinrlMMfPSjr"
      }
    },
    {
      "cell_type": "code",
      "source": [
        "n = 30\n",
        "theta = np.array([1, -1, 2, -0.8, 0.6, -1]) \n",
        "p0 = len(theta)-1 # on ne considère pas l'intercept\n",
        "\n",
        "#vraie fonction\n",
        "f=np.poly1d(np.flip(theta))\n",
        "\n",
        "#simulation des données\n",
        "x = np.linspace(0, 1, n)\n",
        "poly = PolynomialFeatures(degree=p0)\n",
        "X_sim = poly.fit_transform(x.reshape(-1, 1))\n",
        "print(X_sim[:5])\n",
        "\n",
        "sigma = 0.05\n",
        "noise = np.random.normal(0, sigma, size=n) \n",
        "y = np.dot(X_sim,theta)+noise\n",
        "\n",
        "#ajuster un polynôme de degré 31\n",
        "p=31\n",
        "# matrice des données\n",
        "poly = PolynomialFeatures(degree=p,include_bias=False)\n",
        "X = poly.fit_transform(x.reshape(-1, 1))\n",
        "print(X.shape)\n",
        "#==> est la matrice des [x^1 x^2 x^3 x^4 ..]\n",
        "\n",
        "#regression polynomiale\n",
        "poly_reg_model = LinearRegression()\n",
        "poly_reg_model.fit(X, y)\n",
        "print(poly_reg_model.coef_)\n",
        "print(\"============\"*2)\n",
        "print(poly_reg_model.intercept_)\n",
        "### ==> on a des coeff très très grands !!"
      ],
      "metadata": {
        "colab": {
          "base_uri": "https://localhost:8080/"
        },
        "id": "O_bgqSC8PU0A",
        "outputId": "e4e4a231-4c47-4a51-fff2-336f44a10242"
      },
      "execution_count": 7,
      "outputs": [
        {
          "output_type": "stream",
          "name": "stdout",
          "text": [
            "[[1.00000000e+00 0.00000000e+00 0.00000000e+00 0.00000000e+00\n",
            "  0.00000000e+00 0.00000000e+00]\n",
            " [1.00000000e+00 3.44827586e-02 1.18906064e-03 4.10020911e-05\n",
            "  1.41386521e-06 4.87539728e-08]\n",
            " [1.00000000e+00 6.89655172e-02 4.75624257e-03 3.28016729e-04\n",
            "  2.26218434e-05 1.56012713e-06]\n",
            " [1.00000000e+00 1.03448276e-01 1.07015458e-02 1.10705646e-03\n",
            "  1.14523082e-04 1.18472154e-05]\n",
            " [1.00000000e+00 1.37931034e-01 1.90249703e-02 2.62413383e-03\n",
            "  3.61949494e-04 4.99240681e-05]]\n",
            "(30, 31)\n",
            "[-4.00662854e+02  3.43015521e+04 -1.26225975e+06  2.66918499e+07\n",
            " -3.66602705e+08  3.49202537e+09 -2.39529240e+10  1.20714041e+11\n",
            " -4.49607925e+11  1.22542668e+12 -2.35907474e+12  2.90778822e+12\n",
            " -1.52728723e+12 -1.28756588e+12  2.25377535e+12  2.96919004e+11\n",
            " -2.24394670e+12 -7.75552290e+10  2.14264060e+12  3.97883377e+11\n",
            " -2.04364558e+12 -9.35447807e+11  1.80595579e+12  1.46220445e+12\n",
            " -1.45215070e+12 -1.90004483e+12  1.49133849e+12  1.94784175e+12\n",
            " -2.89154050e+12  1.37133037e+12 -2.35148951e+11]\n",
            "========================\n",
            "1.0738186788700785\n"
          ]
        }
      ]
    },
    {
      "cell_type": "markdown",
      "source": [
        "**Regression poly :** estimation par MCO\n",
        "L'estimateur est : (X'X)^-1XY\n",
        "Cdt° : X'X est inversible  \n",
        "Si les vecteurs colonnes de X sont linérairement indépendants X'X est inversible\n",
        "Dans R^n on a au maximum n vecteurs linéairement indépendant...\n",
        "n = 30 et p+1 = 32 <br>\n",
        "Chaque colonne est dans R^30. Sachant qu'on a 32 paramètres à estimer la résolution par MCO n'est pas possible car la matrice X'X n'est pas inversible puisque det=0.\n",
        "\n",
        "Autre cas ou det(X'X) = 0, multicolinéarité ou corrélation très forte ==> pas de solution. <br>\n",
        "Si les variables concernées ne sont pas significatives, on a des coefficents non nuls, très grands, qui se compensent.\n",
        "\n",
        "<u>**Ridge** = MCO avec une contrainte sur la taille des coefficients<u> (formulation type lagrangien)\n",
        "\n",
        " "
      ],
      "metadata": {
        "id": "BGnQb1s8RFza"
      }
    },
    {
      "cell_type": "code",
      "source": [
        "from sklearn.linear_model import Ridge\n",
        "ridge = Ridge(alpha=0) # 10^-5 et 0.01\n",
        "ridge.fit(X,y)\n",
        "w = ridge.coef_\n",
        "print(w)\n",
        "\n",
        "#calcul de la norme L^2 des coeff\n",
        "L2 = np.sum(w**2)\n",
        "print(\"==========\"*3)\n",
        "print(L2)"
      ],
      "metadata": {
        "colab": {
          "base_uri": "https://localhost:8080/"
        },
        "id": "aktEUD-jOkYA",
        "outputId": "bc0db32b-25ec-4e1a-be65-3cc58050e83e"
      },
      "execution_count": 20,
      "outputs": [
        {
          "output_type": "stream",
          "name": "stdout",
          "text": [
            "[-1.24340415e+01  2.63930168e+02 -2.44183961e+03  1.17249433e+04\n",
            " -3.11051582e+04  4.25250104e+04 -1.57818211e+04 -2.45957917e+04\n",
            "  1.01351659e+04  2.34567687e+04  5.90101536e+03 -1.57901490e+04\n",
            " -2.07134215e+04 -8.19707402e+03  9.69115185e+03  2.04342188e+04\n",
            "  1.84776513e+04  6.19142399e+03 -9.25843295e+03 -2.01716186e+04\n",
            " -2.16627654e+04 -1.32217353e+04  1.51379290e+03  1.63001204e+04\n",
            "  2.45245865e+04  2.15734519e+04  6.91308147e+03 -1.43665528e+04\n",
            " -3.06506285e+04 -2.35350815e+04  3.18779326e+04]\n",
            "==============================\n",
            "11333305531.918108\n"
          ]
        },
        {
          "output_type": "stream",
          "name": "stderr",
          "text": [
            "/usr/local/lib/python3.7/dist-packages/sklearn/linear_model/_ridge.py:197: UserWarning: Singular matrix in solving dual problem. Using least-squares solution instead.\n",
            "  \"Singular matrix in solving dual problem. Using \"\n"
          ]
        }
      ]
    },
    {
      "cell_type": "markdown",
      "source": [
        "Plus alpha augmente, plus la normale 2 diminue.<br>\n",
        "\n",
        "On se donne une séquence de paramètres de complexité et on ajuste une régression ridge sur chaque paramètre de la séquence."
      ],
      "metadata": {
        "id": "veVLSlWHYEkB"
      }
    },
    {
      "cell_type": "code",
      "source": [
        "alphas = np.logspace(-6, -4, 200) # 200 nombres de 10^-6 à 10^6\n",
        "\n",
        "clf = Ridge()\n",
        "coefs = []\n",
        "errors = []\n",
        "\n",
        "for a in alphas:\n",
        "    clf.set_params(alpha=a)\n",
        "    clf.fit(X, y)\n",
        "    coefs.append(clf.coef_) # récup les coeff de la ridge avec le alpha considéré\n",
        "    errors.append(mean_squared_error(clf.coef_, w)) # distance entre les coeff estimés et ceux de la régression classique\n"
      ],
      "metadata": {
        "id": "eyTGnq9yPAQP"
      },
      "execution_count": 42,
      "outputs": []
    },
    {
      "cell_type": "code",
      "source": [
        "plt.figure()\n",
        "\n",
        "#plt.subplot(121)\n",
        "ax = plt.gca()\n",
        "ax.plot(alphas, coefs)\n",
        "ax.set_xscale(\"log\")\n",
        "plt.xlabel(\"alpha\")\n",
        "plt.ylabel(\"weights\")\n",
        "plt.title(\"Profil des coefficients\")\n",
        "plt.axis(\"tight\")\n",
        "plt.show()\n",
        "#plt.subplot(122)\n",
        "ax = plt.gca()\n",
        "ax.plot(alphas, errors)\n",
        "ax.set_xscale(\"log\")\n",
        "plt.xlabel(\"alpha\")\n",
        "plt.ylabel(\"error\")\n",
        "plt.title(\"Comparaison avec la régression\")\n",
        "plt.axis(\"tight\")\n",
        "\n",
        "plt.show()"
      ],
      "metadata": {
        "colab": {
          "base_uri": "https://localhost:8080/",
          "height": 581
        },
        "id": "NisQwL6LPETO",
        "outputId": "25757b47-99ca-4331-9e1c-fafd5375f258"
      },
      "execution_count": 43,
      "outputs": [
        {
          "output_type": "display_data",
          "data": {
            "text/plain": [
              "<Figure size 432x288 with 1 Axes>"
            ],
            "image/png": "[encoded data removed]"
          },
          "metadata": {
            "needs_background": "light"
          }
        },
        {
          "output_type": "display_data",
          "data": {
            "text/plain": [
              "<Figure size 432x288 with 1 Axes>"
            ],
            "image/png": "[encoded data removed]"
          },
          "metadata": {
            "needs_background": "light"
          }
        }
      ]
    },
    {
      "cell_type": "markdown",
      "source": [
        "Quand alpha augmente, la distance avec les coefficients de la regression MCO (erreur moyenne) augmente, càd les coeff deviennent petits. <br>\n",
        "\n",
        "**VALIDATION CROISEE POUR DETERMINER LES VALEURS OPTIMALES DE ALPHA**"
      ],
      "metadata": {
        "id": "qCbPjYu7bkao"
      }
    },
    {
      "cell_type": "code",
      "source": [
        "from sklearn.model_selection import train_test_split\n",
        "from sklearn.linear_model import RidgeCV\n",
        "\n",
        "X_train, X_test, y_train, y_test = train_test_split(X, y, test_size=0.20, random_state=46)\n",
        "\n",
        "ridgecv = RidgeCV(alphas=alphas, normalize=True)\n",
        "ridgecv.fit(X_train, y_train)\n",
        "print(\"Alpha=\", ridgecv.alpha_)\n",
        "ridge_b = Ridge(alpha=ridgecv.alpha_, normalize=True)\n",
        "ridge_b.fit(X_train, y_train)"
      ],
      "metadata": {
        "colab": {
          "base_uri": "https://localhost:8080/"
        },
        "id": "PsJE8KWUfEse",
        "outputId": "cf8b08bc-3bb5-43b4-9e82-b37a3a6f6508"
      },
      "execution_count": 54,
      "outputs": [
        {
          "output_type": "stream",
          "name": "stdout",
          "text": [
            "Alpha= 0.0001\n"
          ]
        },
        {
          "output_type": "stream",
          "name": "stderr",
          "text": [
            "/usr/local/lib/python3.7/dist-packages/sklearn/linear_model/_base.py:145: FutureWarning: 'normalize' was deprecated in version 1.0 and will be removed in 1.2.\n",
            "If you wish to scale the data, use Pipeline with a StandardScaler in a preprocessing stage. To reproduce the previous behavior:\n",
            "\n",
            "from sklearn.pipeline import make_pipeline\n",
            "\n",
            "model = make_pipeline(StandardScaler(with_mean=False), _RidgeGCV())\n",
            "\n",
            "If you wish to pass a sample_weight parameter, you need to pass it as a fit parameter to each step of the pipeline as follows:\n",
            "\n",
            "kwargs = {s[0] + '__sample_weight': sample_weight for s in model.steps}\n",
            "model.fit(X, y, **kwargs)\n",
            "\n",
            "\n",
            "  FutureWarning,\n",
            "/usr/local/lib/python3.7/dist-packages/sklearn/linear_model/_base.py:145: FutureWarning: 'normalize' was deprecated in version 1.0 and will be removed in 1.2.\n",
            "If you wish to scale the data, use Pipeline with a StandardScaler in a preprocessing stage. To reproduce the previous behavior:\n",
            "\n",
            "from sklearn.pipeline import make_pipeline\n",
            "\n",
            "model = make_pipeline(StandardScaler(with_mean=False), Ridge())\n",
            "\n",
            "If you wish to pass a sample_weight parameter, you need to pass it as a fit parameter to each step of the pipeline as follows:\n",
            "\n",
            "kwargs = {s[0] + '__sample_weight': sample_weight for s in model.steps}\n",
            "model.fit(X, y, **kwargs)\n",
            "\n",
            "Set parameter alpha to: original_alpha * n_samples. \n",
            "  FutureWarning,\n"
          ]
        },
        {
          "output_type": "execute_result",
          "data": {
            "text/plain": [
              "Ridge(alpha=0.0001, normalize=True)"
            ]
          },
          "metadata": {},
          "execution_count": 54
        }
      ]
    },
    {
      "cell_type": "markdown",
      "source": [
        "On affiche le coefficient optimal et le calcul de l’erreur de prédiction par validation croisée pour chaque valeur de alpha.\n"
      ],
      "metadata": {
        "id": "epumZixlfv9V"
      }
    },
    {
      "cell_type": "code",
      "source": [
        "print(\"best model coefficients:\")\n",
        "print(pd.Series(ridge_b.coef_, index=pd.DataFrame(X).columns))\n",
        "print(\"mse ridge = \",mean_squared_error(y_test, ridge_b.predict(X_test)))"
      ],
      "metadata": {
        "colab": {
          "base_uri": "https://localhost:8080/"
        },
        "id": "WLfjz4_sfub9",
        "outputId": "c79124e1-44cc-41c0-f967-13429d54c91f"
      },
      "execution_count": 57,
      "outputs": [
        {
          "output_type": "stream",
          "name": "stdout",
          "text": [
            "best model coefficients:\n",
            "0    -1.314106\n",
            "1     1.139846\n",
            "2     1.822409\n",
            "3     0.739208\n",
            "4    -0.682963\n",
            "5    -1.563064\n",
            "6    -1.743269\n",
            "7    -1.402860\n",
            "8    -0.794605\n",
            "9    -0.130635\n",
            "10    0.448986\n",
            "11    0.871693\n",
            "12    1.115785\n",
            "13    1.192585\n",
            "14    1.131568\n",
            "15    0.969555\n",
            "16    0.743657\n",
            "17    0.487196\n",
            "18    0.227755\n",
            "19   -0.013373\n",
            "20   -0.220897\n",
            "21   -0.384800\n",
            "22   -0.499438\n",
            "23   -0.562616\n",
            "24   -0.574740\n",
            "25   -0.538088\n",
            "26   -0.456203\n",
            "27   -0.333409\n",
            "28   -0.174444\n",
            "29    0.015820\n",
            "30    0.232576\n",
            "dtype: float64\n",
            "mse ridge =  0.017806854028774004\n"
          ]
        }
      ]
    },
    {
      "cell_type": "code",
      "source": [
        "y_pred = ridge_b.predict(X_test)\n",
        "print(y_pred)\n",
        "print(\"==========\")\n",
        "print(y_test)\n",
        "print(\"==========\")\n",
        "mean_squared_error(y_test,y_pred)\n"
      ],
      "metadata": {
        "colab": {
          "base_uri": "https://localhost:8080/"
        },
        "id": "lX9pjY6QgwpI",
        "outputId": "74a67f8f-6090-4c06-c989-60aa2649fed2"
      },
      "execution_count": 59,
      "outputs": [
        {
          "output_type": "stream",
          "name": "stdout",
          "text": [
            "[1.01880515 0.82295814 1.03511591 0.94103612 0.84369104 0.88631584]\n",
            "==========\n",
            "[0.85005529 0.89206794 0.84731845 0.89633665 0.85924087 1.07626508]\n",
            "==========\n"
          ]
        },
        {
          "output_type": "execute_result",
          "data": {
            "text/plain": [
              "0.017806854028774004"
            ]
          },
          "metadata": {},
          "execution_count": 59
        }
      ]
    }
  ]
}