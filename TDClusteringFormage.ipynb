{
  "nbformat": 4,
  "nbformat_minor": 0,
  "metadata": {
    "colab": {
      "provenance": [],
      "collapsed_sections": [],
      "toc_visible": true,
      "include_colab_link": true
    },
    "kernelspec": {
      "name": "python3",
      "display_name": "Python 3"
    }
  },
  "cells": [
    {
      "cell_type": "markdown",
      "metadata": {
        "id": "view-in-github",
        "colab_type": "text"
      },
      "source": [
        "<a href=\"https://colab.research.google.com/github/fereol023/My-ML-Courses-/blob/main/TDClusteringFormage.ipynb\" target=\"_parent\"><img src=\"https://colab.research.google.com/assets/colab-badge.svg\" alt=\"Open In Colab\"/></a>"
      ]
    },
    {
      "cell_type": "markdown",
      "metadata": {
        "id": "BeNZlCMx2_AT"
      },
      "source": [
        "# I- Connection à votre drive pour la lecture des données:\n",
        "\n",
        "Cette étape est nécessaire seulement si vous travailler sous Colab. Si vous travailler avec un aure éditeur python sur votre machine, il suffit de placer le fichier \"formage.txt\" dans votre répertoire de travail.\n",
        "\n",
        "1- Créer sur votre drive google un répertoire au nom \"data\" et importer dedans le fichier \"data.txt\"\n",
        "\n",
        "2- Créer une connection à votre drive en exécutant le code suivant:\n",
        "\n",
        "```\n",
        "from google.colab import drive\n",
        "drive.mount(‘/content/drive’)\n",
        "```\n",
        "4- Suivre les étapes de connection et copier le lien envoyé.\n",
        "Si vous avez rencontrez des difficultés, vous pouvez visualiser cette vidéo: https://youtu.be/TDyfhlg23vs\n",
        "\n"
      ]
    },
    {
      "cell_type": "code",
      "metadata": {
        "id": "gd0dkJSmyywg"
      },
      "source": [
        "\n",
        "\n"
      ],
      "execution_count": null,
      "outputs": []
    },
    {
      "cell_type": "markdown",
      "metadata": {
        "id": "DFZA3_sfzUD_"
      },
      "source": [
        "# II- Importation des données \"fromage.txt\" dans un frame pandas : \n",
        "Le fichier « fromage.txt » provient de la page de cours de Marie Chavent de l’Université de Bordeaux.\n",
        "Il contient un ensemble de fromages (29\n",
        "observations) décrits par leurs propriétés nutritives (ex. protéines, lipides, etc. ; 9 variables).\n",
        "\n",
        " L’objectif est d’identifier des groupes de fromages homogènes, partageant des caractéristiques similaires.\n",
        "\n",
        "Compléter le code suivant afin d’importer les données du fichier \"formage.txt\" et afficher les caractéristiques correspondantes.\n",
        "1- Importer la librairie 'pandas'\n",
        "\n",
        "2- Importer les données du fichier \"fromage.txt\"  dans un frame Pandas (copier le chemin complet à partir de votre drive)\n",
        "\n",
        "3- Afficher les dimensions de la table avec la propriété shape \n",
        "4- Afficher les types des colonnes \n",
        "5- Afficher les 4 premières lignes du dataframe."
      ]
    },
    {
      "cell_type": "code",
      "metadata": {
        "id": "EXHPZTgv6o-7",
        "colab": {
          "base_uri": "https://localhost:8080/"
        },
        "outputId": "0477e39a-052b-42b7-c18d-a7929e882336"
      },
      "source": [
        "#importer  la librairie Pandas\n",
        "import pandas as pd\n",
        "import requests\n",
        "import io\n",
        "\n",
        "#lecture du fichier \"fromage.txt\" avec la fonction read_table de pandas\n",
        "#header = 0, la première ligne correspond à l'entête (intitulé des champs)\n",
        "url = \"https://raw.githubusercontent.com/fereol023/My-ML-Courses-/main/fromage.txt\"\n",
        "download = requests.get(url).content\n",
        "fromage = pd.read_table(io.StringIO(download.decode()),sep=\"\\t\",header=0,index_col=0)\n",
        "\n",
        "#afficher les dimensions de la table  (fonction shape) ainsi que leur types (propriété dtype)\n",
        "\n",
        "#afficher la liste des colonnes et leurs types avec la propriété dtype\n",
        "\n",
        "#afficher les 4 premières lignes de la table\n",
        "print(fromage.head())"
      ],
      "execution_count": 1,
      "outputs": [
        {
          "output_type": "stream",
          "name": "stdout",
          "text": [
            "             calories  sodium  calcium  lipides  retinol  folates  proteines  \\\n",
            "Fromages                                                                       \n",
            "CarredelEst       314   353.5     72.6     26.3     51.6     30.3       21.0   \n",
            "Babybel           314   238.0    209.8     25.1     63.7      6.4       22.6   \n",
            "Beaufort          401   112.0    259.4     33.3     54.9      1.2       26.6   \n",
            "Bleu              342   336.0    211.1     28.9     37.1     27.5       20.2   \n",
            "Camembert         264   314.0    215.9     19.5    103.0     36.4       23.4   \n",
            "\n",
            "             cholesterol  magnesium  \n",
            "Fromages                             \n",
            "CarredelEst           70         20  \n",
            "Babybel               70         27  \n",
            "Beaufort             120         41  \n",
            "Bleu                  90         27  \n",
            "Camembert             60         20  \n"
          ]
        }
      ]
    },
    {
      "cell_type": "markdown",
      "metadata": {
        "id": "JsVbphDo0bbJ"
      },
      "source": [
        "# III- Statistiques et description de la base\n",
        "\n",
        "Avant la segmentation des données, il est intéressant de comprendre la nature des variables descriptives ainsi que les corrélations entre elles.\n",
        "\n",
        "1.   Afficher les statistiques descriptives de la table : vous pouvez utiliser la fonction `describe` de pandas (`objet.describe()`)\n",
        "2.   Afficher le graphique de corrélation deux à deux des variables en utilisant la fonction `scatter_matrix` de pandas:\n",
        "https://pandas.pydata.org/docs/reference/api/pandas.plotting.scatter_matrix.html. \n",
        "\n",
        "Pour ce faire, reprenez les deux lignes suivantes: \n",
        "```\n",
        "from pandas.plotting import scatter_matrix\n",
        "scatter_matrix(fromage,figsize=(9,9))\n",
        "```\n",
        "\n",
        "\n"
      ]
    },
    {
      "cell_type": "code",
      "metadata": {
        "id": "ajkUgM0m-VJN",
        "colab": {
          "base_uri": "https://localhost:8080/",
          "height": 300
        },
        "outputId": "66831746-a37f-4bbe-ed22-40f15738bb7b"
      },
      "source": [
        "#importation de la librarire\n",
        "\n",
        "#Affichage des statistiques descriptives\n",
        "fromage.describe()\n",
        "#affichage du graphique de corrélation\n",
        "#pd.plotting.scatter_matrix(fromage, alpha=0.2)"
      ],
      "execution_count": null,
      "outputs": [
        {
          "output_type": "execute_result",
          "data": {
            "text/plain": [
              "         calories      sodium     calcium    lipides     retinol    folates  \\\n",
              "count   29.000000   29.000000   29.000000  29.000000   29.000000  29.000000   \n",
              "mean   300.034483  210.086207  185.734483  24.158621   67.562069  13.010345   \n",
              "std     91.914356  108.678923   72.528882   8.129642   24.163098  11.723339   \n",
              "min     70.000000   22.000000   72.600000   3.400000   37.100000   1.200000   \n",
              "25%    292.000000  140.000000  132.900000  23.400000   51.600000   4.900000   \n",
              "50%    321.000000  223.000000  202.300000  26.300000   62.300000   6.400000   \n",
              "75%    355.000000  276.000000  220.500000  29.100000   76.400000  21.100000   \n",
              "max    406.000000  432.000000  334.600000  33.300000  150.500000  36.400000   \n",
              "\n",
              "       proteines  cholesterol  magnesium  \n",
              "count  29.000000    29.000000  29.000000  \n",
              "mean   20.168966    74.586207  26.965517  \n",
              "std     6.959788    28.245755  11.318388  \n",
              "min     4.100000    10.000000  10.000000  \n",
              "25%    17.800000    70.000000  20.000000  \n",
              "50%    21.000000    80.000000  26.000000  \n",
              "75%    23.400000    90.000000  30.000000  \n",
              "max    35.700000   120.000000  51.000000  "
            ],
            "text/html": [
              "\n",
              "  <div id=\"df-eccb41e4-b403-4661-858a-d3a83806d3e3\">\n",
              "    <div class=\"colab-df-container\">\n",
              "      <div>\n",
              "<style scoped>\n",
              "    .dataframe tbody tr th:only-of-type {\n",
              "        vertical-align: middle;\n",
              "    }\n",
              "\n",
              "    .dataframe tbody tr th {\n",
              "        vertical-align: top;\n",
              "    }\n",
              "\n",
              "    .dataframe thead th {\n",
              "        text-align: right;\n",
              "    }\n",
              "</style>\n",
              "<table border=\"1\" class=\"dataframe\">\n",
              "  <thead>\n",
              "    <tr style=\"text-align: right;\">\n",
              "      <th></th>\n",
              "      <th>calories</th>\n",
              "      <th>sodium</th>\n",
              "      <th>calcium</th>\n",
              "      <th>lipides</th>\n",
              "      <th>retinol</th>\n",
              "      <th>folates</th>\n",
              "      <th>proteines</th>\n",
              "      <th>cholesterol</th>\n",
              "      <th>magnesium</th>\n",
              "    </tr>\n",
              "  </thead>\n",
              "  <tbody>\n",
              "    <tr>\n",
              "      <th>count</th>\n",
              "      <td>29.000000</td>\n",
              "      <td>29.000000</td>\n",
              "      <td>29.000000</td>\n",
              "      <td>29.000000</td>\n",
              "      <td>29.000000</td>\n",
              "      <td>29.000000</td>\n",
              "      <td>29.000000</td>\n",
              "      <td>29.000000</td>\n",
              "      <td>29.000000</td>\n",
              "    </tr>\n",
              "    <tr>\n",
              "      <th>mean</th>\n",
              "      <td>300.034483</td>\n",
              "      <td>210.086207</td>\n",
              "      <td>185.734483</td>\n",
              "      <td>24.158621</td>\n",
              "      <td>67.562069</td>\n",
              "      <td>13.010345</td>\n",
              "      <td>20.168966</td>\n",
              "      <td>74.586207</td>\n",
              "      <td>26.965517</td>\n",
              "    </tr>\n",
              "    <tr>\n",
              "      <th>std</th>\n",
              "      <td>91.914356</td>\n",
              "      <td>108.678923</td>\n",
              "      <td>72.528882</td>\n",
              "      <td>8.129642</td>\n",
              "      <td>24.163098</td>\n",
              "      <td>11.723339</td>\n",
              "      <td>6.959788</td>\n",
              "      <td>28.245755</td>\n",
              "      <td>11.318388</td>\n",
              "    </tr>\n",
              "    <tr>\n",
              "      <th>min</th>\n",
              "      <td>70.000000</td>\n",
              "      <td>22.000000</td>\n",
              "      <td>72.600000</td>\n",
              "      <td>3.400000</td>\n",
              "      <td>37.100000</td>\n",
              "      <td>1.200000</td>\n",
              "      <td>4.100000</td>\n",
              "      <td>10.000000</td>\n",
              "      <td>10.000000</td>\n",
              "    </tr>\n",
              "    <tr>\n",
              "      <th>25%</th>\n",
              "      <td>292.000000</td>\n",
              "      <td>140.000000</td>\n",
              "      <td>132.900000</td>\n",
              "      <td>23.400000</td>\n",
              "      <td>51.600000</td>\n",
              "      <td>4.900000</td>\n",
              "      <td>17.800000</td>\n",
              "      <td>70.000000</td>\n",
              "      <td>20.000000</td>\n",
              "    </tr>\n",
              "    <tr>\n",
              "      <th>50%</th>\n",
              "      <td>321.000000</td>\n",
              "      <td>223.000000</td>\n",
              "      <td>202.300000</td>\n",
              "      <td>26.300000</td>\n",
              "      <td>62.300000</td>\n",
              "      <td>6.400000</td>\n",
              "      <td>21.000000</td>\n",
              "      <td>80.000000</td>\n",
              "      <td>26.000000</td>\n",
              "    </tr>\n",
              "    <tr>\n",
              "      <th>75%</th>\n",
              "      <td>355.000000</td>\n",
              "      <td>276.000000</td>\n",
              "      <td>220.500000</td>\n",
              "      <td>29.100000</td>\n",
              "      <td>76.400000</td>\n",
              "      <td>21.100000</td>\n",
              "      <td>23.400000</td>\n",
              "      <td>90.000000</td>\n",
              "      <td>30.000000</td>\n",
              "    </tr>\n",
              "    <tr>\n",
              "      <th>max</th>\n",
              "      <td>406.000000</td>\n",
              "      <td>432.000000</td>\n",
              "      <td>334.600000</td>\n",
              "      <td>33.300000</td>\n",
              "      <td>150.500000</td>\n",
              "      <td>36.400000</td>\n",
              "      <td>35.700000</td>\n",
              "      <td>120.000000</td>\n",
              "      <td>51.000000</td>\n",
              "    </tr>\n",
              "  </tbody>\n",
              "</table>\n",
              "</div>\n",
              "      <button class=\"colab-df-convert\" onclick=\"convertToInteractive('df-eccb41e4-b403-4661-858a-d3a83806d3e3')\"\n",
              "              title=\"Convert this dataframe to an interactive table.\"\n",
              "              style=\"display:none;\">\n",
              "        \n",
              "  <svg xmlns=\"http://www.w3.org/2000/svg\" height=\"24px\"viewBox=\"0 0 24 24\"\n",
              "       width=\"24px\">\n",
              "    <path d=\"M0 0h24v24H0V0z\" fill=\"none\"/>\n",
              "    <path d=\"M18.56 5.44l.94 2.06.94-2.06 2.06-.94-2.06-.94-.94-2.06-.94 2.06-2.06.94zm-11 1L8.5 8.5l.94-2.06 2.06-.94-2.06-.94L8.5 2.5l-.94 2.06-2.06.94zm10 10l.94 2.06.94-2.06 2.06-.94-2.06-.94-.94-2.06-.94 2.06-2.06.94z\"/><path d=\"M17.41 7.96l-1.37-1.37c-.4-.4-.92-.59-1.43-.59-.52 0-1.04.2-1.43.59L10.3 9.45l-7.72 7.72c-.78.78-.78 2.05 0 2.83L4 21.41c.39.39.9.59 1.41.59.51 0 1.02-.2 1.41-.59l7.78-7.78 2.81-2.81c.8-.78.8-2.07 0-2.86zM5.41 20L4 18.59l7.72-7.72 1.47 1.35L5.41 20z\"/>\n",
              "  </svg>\n",
              "      </button>\n",
              "      \n",
              "  <style>\n",
              "    .colab-df-container {\n",
              "      display:flex;\n",
              "      flex-wrap:wrap;\n",
              "      gap: 12px;\n",
              "    }\n",
              "\n",
              "    .colab-df-convert {\n",
              "      background-color: #E8F0FE;\n",
              "      border: none;\n",
              "      border-radius: 50%;\n",
              "      cursor: pointer;\n",
              "      display: none;\n",
              "      fill: #1967D2;\n",
              "      height: 32px;\n",
              "      padding: 0 0 0 0;\n",
              "      width: 32px;\n",
              "    }\n",
              "\n",
              "    .colab-df-convert:hover {\n",
              "      background-color: #E2EBFA;\n",
              "      box-shadow: 0px 1px 2px rgba(60, 64, 67, 0.3), 0px 1px 3px 1px rgba(60, 64, 67, 0.15);\n",
              "      fill: #174EA6;\n",
              "    }\n",
              "\n",
              "    [theme=dark] .colab-df-convert {\n",
              "      background-color: #3B4455;\n",
              "      fill: #D2E3FC;\n",
              "    }\n",
              "\n",
              "    [theme=dark] .colab-df-convert:hover {\n",
              "      background-color: #434B5C;\n",
              "      box-shadow: 0px 1px 3px 1px rgba(0, 0, 0, 0.15);\n",
              "      filter: drop-shadow(0px 1px 2px rgba(0, 0, 0, 0.3));\n",
              "      fill: #FFFFFF;\n",
              "    }\n",
              "  </style>\n",
              "\n",
              "      <script>\n",
              "        const buttonEl =\n",
              "          document.querySelector('#df-eccb41e4-b403-4661-858a-d3a83806d3e3 button.colab-df-convert');\n",
              "        buttonEl.style.display =\n",
              "          google.colab.kernel.accessAllowed ? 'block' : 'none';\n",
              "\n",
              "        async function convertToInteractive(key) {\n",
              "          const element = document.querySelector('#df-eccb41e4-b403-4661-858a-d3a83806d3e3');\n",
              "          const dataTable =\n",
              "            await google.colab.kernel.invokeFunction('convertToInteractive',\n",
              "                                                     [key], {});\n",
              "          if (!dataTable) return;\n",
              "\n",
              "          const docLinkHtml = 'Like what you see? Visit the ' +\n",
              "            '<a target=\"_blank\" href=https://colab.research.google.com/notebooks/data_table.ipynb>data table notebook</a>'\n",
              "            + ' to learn more about interactive tables.';\n",
              "          element.innerHTML = '';\n",
              "          dataTable['output_type'] = 'display_data';\n",
              "          await google.colab.output.renderOutput(dataTable, element);\n",
              "          const docLink = document.createElement('div');\n",
              "          docLink.innerHTML = docLinkHtml;\n",
              "          element.appendChild(docLink);\n",
              "        }\n",
              "      </script>\n",
              "    </div>\n",
              "  </div>\n",
              "  "
            ]
          },
          "metadata": {},
          "execution_count": 5
        }
      ]
    },
    {
      "cell_type": "markdown",
      "metadata": {
        "id": "OOeunJk8DW9l"
      },
      "source": [
        "# IV- Clustering des données avec la  méthode K-means\n",
        "\n",
        "On se propose maintenant de grouper les types de fromage en utilisant la méthode de K-means. \n",
        "\n",
        "1.   Importer la librairie `cluster` de sklearn\n",
        "2.   Créer une instance de la classe `Kmeans` avec 4 clusters\n",
        "3.   Lancer l'apprentissage: la fonction `fit` pour les classes de cluster prend un seul argument: le dataframe des données à segmenter (fromage)  \n",
        "4.   Enregistrer dans une variable  '`labelsKM`' les labels des clusters retournés par la fonction predict de Kmeans (`Kmeans.predict(fromage)`). Afficher la variable  '`labelsKM`'\n",
        "5. Enregsitrer dans une variable '`CentresKM`' les centres des clusters définis par KMeans (`KMeans.cluster_centers_`)\n",
        "\n"
      ]
    },
    {
      "cell_type": "code",
      "metadata": {
        "id": "6rq_VPthDvL2",
        "colab": {
          "base_uri": "https://localhost:8080/",
          "height": 302
        },
        "outputId": "36dc11e1-5031-49b3-dbf4-71311678694b"
      },
      "source": [
        "#k-means sur les données des fromages\n",
        "#importer les librarires cluster et pyplot (as plt)\n",
        "from sklearn import cluster\n",
        "import matplotlib.pyplot as plt\n",
        "\n",
        "#création d'un cluster Kmean avec un nombre de clusters égal à 4\n",
        "k_mean = cluster.KMeans(n_clusters = 4)\n",
        "#Apprentissage (segmetation) (fonction fit)\n",
        "k_mean_fit = k_mean.fit(fromage)\n",
        "#Prédiction et enregistrement des labels \n",
        "labelsKM = k_mean.predict(fromage)\n",
        "#Affichage des labels\n",
        "print(labelsKM)\n",
        "#enregistrement des centres des clusters\n",
        "centresKM = k_mean.cluster_centers_\n",
        "\n",
        "plt.scatter(centresKM[:,0],centresKM[:,1], s=60,marker='^',linewidth=2) # dans le plan (0,1)"
      ],
      "execution_count": null,
      "outputs": [
        {
          "output_type": "stream",
          "name": "stdout",
          "text": [
            "[0 1 1 0 0 1 3 3 1 1 3 1 1 3 0 2 2 0 0 1 2 3 1 0 0 1 3 1 2]\n"
          ]
        },
        {
          "output_type": "execute_result",
          "data": {
            "text/plain": [
              "<matplotlib.collections.PathCollection at 0x7f4e5d0d1810>"
            ]
          },
          "metadata": {},
          "execution_count": 24
        },
        {
          "output_type": "display_data",
          "data": {
            "text/plain": [
              "<Figure size 432x288 with 1 Axes>"
            ],
            "image/png": "[encoded data removed]"
          },
          "metadata": {
            "needs_background": "light"
          }
        }
      ]
    },
    {
      "cell_type": "code",
      "source": [
        "# coude\n",
        "import numpy as np\n",
        "from scipy.spatial.distance import cdist\n",
        "\n",
        "distortions = []\n",
        "inertias = []\n",
        "mapping1 = {}\n",
        "mapping2 = {}\n",
        "K = range(1, 10)\n",
        "\n",
        "for k in K:\n",
        "    # Building and fitting the model\n",
        "    kmeanModel = cluster.KMeans(n_clusters=k).fit(fromage)\n",
        "    kmeanModel.fit(fromage)\n",
        "  \n",
        "    distortions.append(sum(np.min(cdist(fromage, kmeanModel.cluster_centers_,\n",
        "                                        'euclidean'), axis=1)) / fromage.shape[0])\n",
        "    inertias.append(kmeanModel.inertia_)\n",
        "  \n",
        "    mapping1[k] = sum(np.min(cdist(fromage, kmeanModel.cluster_centers_,\n",
        "                                   'euclidean'), axis=1)) / fromage.shape[0]\n",
        "    mapping2[k] = kmeanModel.inertia_\n",
        "\n",
        "\n",
        "plt.plot(K, distortions, 'bx-')\n",
        "plt.xlabel('Values of K')\n",
        "plt.ylabel('Distortion')\n",
        "plt.title('The Elbow Method using Distortion')\n",
        "plt.show()\n",
        "\n",
        "for key, val in mapping1.items():\n",
        "    print(f'{key} : {val}')"
      ],
      "metadata": {
        "colab": {
          "base_uri": "https://localhost:8080/",
          "height": 451
        },
        "id": "4ZnAj2MadUhm",
        "outputId": "10df0b27-820d-45a9-d99f-5d7c23558f27"
      },
      "execution_count": null,
      "outputs": [
        {
          "output_type": "display_data",
          "data": {
            "text/plain": [
              "<Figure size 432x288 with 1 Axes>"
            ],
            "image/png": "[encoded data removed]"
          },
          "metadata": {
            "needs_background": "light"
          }
        },
        {
          "output_type": "stream",
          "name": "stdout",
          "text": [
            "1 : 145.45030691845633\n",
            "2 : 107.89801715617207\n",
            "3 : 87.63925606511017\n",
            "4 : 77.19286396613614\n",
            "5 : 67.11913816748897\n",
            "6 : 61.323538304476735\n",
            "7 : 56.606470176997156\n",
            "8 : 51.995719390272185\n",
            "9 : 48.26565423243332\n"
          ]
        }
      ]
    },
    {
      "cell_type": "markdown",
      "metadata": {
        "id": "qLF_lHOZEfJM"
      },
      "source": [
        "# V- Clustering  avec la méthode hiérarchique Agglomerative\n",
        "Comme deuxième approche de segmentation, nous utiliserons la méthode hiérarchique agglomérative\n",
        "\n",
        "1. Importer la librairie  `AgglomerativeClustering` dans scikit-learn.cluser : \n",
        "`from sklearn.cluster import AgglomerativeClustering`\n",
        "\n",
        "2.  Créer une instance CHA de la classe `AgglomerativeClusterin`g avec un nombre de clusters égal à 4.\n",
        "3. Appliquer la segmentation sur les données 'fromage'  comme ce qui a été fait avec Kmeans.\n",
        "\n",
        "4. Enregistrer dans une variable 'labelsCHA' les labels des clusters retournés par la fonction `fit_predict` de CHA (CHA.fit_predict(fromage)). Afficher la variable 'labelsCHA'\n",
        "\n",
        "##Affichage du dendrogramme\n",
        "La libraririe `scipy.cluster.hierarchy`permet de générer et afficher le dendrogramme des méthodes hiérarchiques de clustering.\n",
        "* Importer la bibliothèque `scipy.cluster.hierarchy` sous le nom `sch`\n",
        "* générer le dendrogramme avec la ligne de code:\n",
        "```\n",
        "dendrogram = sch.dendrogram(sch.linkage(fromage, method='ward'))\n",
        "```\n",
        "\n",
        "\n"
      ]
    },
    {
      "cell_type": "code",
      "metadata": {
        "id": "4V8052RsFzVS",
        "colab": {
          "base_uri": "https://localhost:8080/",
          "height": 288
        },
        "outputId": "3ac631b1-e78d-4503-a13a-9282d459e120"
      },
      "source": [
        "from sklearn.cluster import AgglomerativeClustering\n",
        "#création d'une  CHA\n",
        "CHA = AgglomerativeClustering(n_clusters=4)\n",
        "#Apprentissage (segmentation)\n",
        "CHA_fit = CHA.fit(fromage)\n",
        "#Prédiction et enregistrement des labels (fonction fit_predict)\n",
        "labelsCHA = CHA.fit_predict(fromage)\n",
        "print(labelsCHA)\n",
        "\n",
        "#Affichage du dendrogramme de la méthode hiérarchique\n",
        "#importer la librarairie scipy.cluster.hierarchy\n",
        "import scipy.cluster.hierarchy as sch\n",
        "#générer le dendrogramme des méthodes hiérarchique \n",
        "dendrogram = sch.dendrogram(sch.linkage(fromage, method='ward'))\n"
      ],
      "execution_count": null,
      "outputs": [
        {
          "output_type": "stream",
          "name": "stdout",
          "text": [
            "[1 2 0 1 1 0 2 2 0 0 2 0 0 2 1 3 3 1 1 0 3 2 2 2 1 0 2 0 3]\n"
          ]
        },
        {
          "output_type": "display_data",
          "data": {
            "text/plain": [
              "<Figure size 432x288 with 1 Axes>"
            ],
            "image/png": "[encoded data removed]"
          },
          "metadata": {
            "needs_background": "light"
          }
        }
      ]
    },
    {
      "cell_type": "markdown",
      "metadata": {
        "id": "QF0Gm_terlsL"
      },
      "source": [
        "# VI- Validation et croisement des résultats\n",
        "\n",
        "La mesure `silhouette_score` est utilisée pour mesurer la performance des clusters.  Ce score mesure la distance entre chaque point d'un cluster et les points des clusters voisins.\n",
        "\n",
        "**Analyse du score Silhouette**\n",
        "La plage du score Silhouette est [-1, 1]. Son analyse est la suivante :\n",
        "\n",
        "* Si le Score est proche de +1 : Score Silhouette \n",
        "indique que l'échantillon est loin de son cluster voisin.\n",
        "* si le score est proche de 0 : Score Silhouette indique que l'échantillon est sur ou très près de la frontière de décision séparant deux clusters voisins. \n",
        "* si le score est proche de -1 : Score Silhouette indique que les échantillons ont été assignés aux mauvais clusters.\n",
        "\n",
        "1. Importer la libraire `metrics` de scikit-learn\n",
        "2. Calculer les scores de Silouhette des deux clusters (ex: `metrics.silhouette_score(fromage,labelskm)`)\n",
        "3. Comparer les deux modèles\n",
        "4. Croiser les deux listes de labels (labelskm et labelsCHA) en utilisant  la fonction crosstab définie dans la librairie pandas. Interpréter la matrice résultat.\n"
      ]
    },
    {
      "cell_type": "code",
      "metadata": {
        "id": "4sTCxCTh9uKa",
        "colab": {
          "base_uri": "https://localhost:8080/",
          "height": 241
        },
        "outputId": "b0c77340-da05-49ee-8e8a-29fca236e50f"
      },
      "source": [
        "#librairie pour évaluation des partitions\n",
        "from sklearn import metrics\n",
        "from pandas import crosstab\n",
        "silhouette_KM = metrics.silhouette_score(fromage,labelsKM)\n",
        "silhouette_CHA = metrics.silhouette_score(fromage,labelsCHA)\n",
        "\n",
        "#affichage de la fonction \n",
        "#metrics.silhouette_score()\n",
        "\n",
        "print(silhouette_KM)\n",
        "print(silhouette_CHA)\n",
        "\n",
        "#correspondance avec les groupes de kmeans\n",
        "crosstab(labelsKM, labelsCHA)"
      ],
      "execution_count": null,
      "outputs": [
        {
          "output_type": "stream",
          "name": "stdout",
          "text": [
            "0.3369907041718868\n",
            "0.31556786198229153\n"
          ]
        },
        {
          "output_type": "execute_result",
          "data": {
            "text/plain": [
              "col_0  0  1  2  3\n",
              "row_0            \n",
              "0      1  6  3  0\n",
              "1      0  0  0  4\n",
              "2      8  0  0  0\n",
              "3      0  1  6  0"
            ],
            "text/html": [
              "\n",
              "  <div id=\"df-d596df86-b8a6-4677-9d74-c3f3a1cedc4f\">\n",
              "    <div class=\"colab-df-container\">\n",
              "      <div>\n",
              "<style scoped>\n",
              "    .dataframe tbody tr th:only-of-type {\n",
              "        vertical-align: middle;\n",
              "    }\n",
              "\n",
              "    .dataframe tbody tr th {\n",
              "        vertical-align: top;\n",
              "    }\n",
              "\n",
              "    .dataframe thead th {\n",
              "        text-align: right;\n",
              "    }\n",
              "</style>\n",
              "<table border=\"1\" class=\"dataframe\">\n",
              "  <thead>\n",
              "    <tr style=\"text-align: right;\">\n",
              "      <th>col_0</th>\n",
              "      <th>0</th>\n",
              "      <th>1</th>\n",
              "      <th>2</th>\n",
              "      <th>3</th>\n",
              "    </tr>\n",
              "    <tr>\n",
              "      <th>row_0</th>\n",
              "      <th></th>\n",
              "      <th></th>\n",
              "      <th></th>\n",
              "      <th></th>\n",
              "    </tr>\n",
              "  </thead>\n",
              "  <tbody>\n",
              "    <tr>\n",
              "      <th>0</th>\n",
              "      <td>1</td>\n",
              "      <td>6</td>\n",
              "      <td>3</td>\n",
              "      <td>0</td>\n",
              "    </tr>\n",
              "    <tr>\n",
              "      <th>1</th>\n",
              "      <td>0</td>\n",
              "      <td>0</td>\n",
              "      <td>0</td>\n",
              "      <td>4</td>\n",
              "    </tr>\n",
              "    <tr>\n",
              "      <th>2</th>\n",
              "      <td>8</td>\n",
              "      <td>0</td>\n",
              "      <td>0</td>\n",
              "      <td>0</td>\n",
              "    </tr>\n",
              "    <tr>\n",
              "      <th>3</th>\n",
              "      <td>0</td>\n",
              "      <td>1</td>\n",
              "      <td>6</td>\n",
              "      <td>0</td>\n",
              "    </tr>\n",
              "  </tbody>\n",
              "</table>\n",
              "</div>\n",
              "      <button class=\"colab-df-convert\" onclick=\"convertToInteractive('df-d596df86-b8a6-4677-9d74-c3f3a1cedc4f')\"\n",
              "              title=\"Convert this dataframe to an interactive table.\"\n",
              "              style=\"display:none;\">\n",
              "        \n",
              "  <svg xmlns=\"http://www.w3.org/2000/svg\" height=\"24px\"viewBox=\"0 0 24 24\"\n",
              "       width=\"24px\">\n",
              "    <path d=\"M0 0h24v24H0V0z\" fill=\"none\"/>\n",
              "    <path d=\"M18.56 5.44l.94 2.06.94-2.06 2.06-.94-2.06-.94-.94-2.06-.94 2.06-2.06.94zm-11 1L8.5 8.5l.94-2.06 2.06-.94-2.06-.94L8.5 2.5l-.94 2.06-2.06.94zm10 10l.94 2.06.94-2.06 2.06-.94-2.06-.94-.94-2.06-.94 2.06-2.06.94z\"/><path d=\"M17.41 7.96l-1.37-1.37c-.4-.4-.92-.59-1.43-.59-.52 0-1.04.2-1.43.59L10.3 9.45l-7.72 7.72c-.78.78-.78 2.05 0 2.83L4 21.41c.39.39.9.59 1.41.59.51 0 1.02-.2 1.41-.59l7.78-7.78 2.81-2.81c.8-.78.8-2.07 0-2.86zM5.41 20L4 18.59l7.72-7.72 1.47 1.35L5.41 20z\"/>\n",
              "  </svg>\n",
              "      </button>\n",
              "      \n",
              "  <style>\n",
              "    .colab-df-container {\n",
              "      display:flex;\n",
              "      flex-wrap:wrap;\n",
              "      gap: 12px;\n",
              "    }\n",
              "\n",
              "    .colab-df-convert {\n",
              "      background-color: #E8F0FE;\n",
              "      border: none;\n",
              "      border-radius: 50%;\n",
              "      cursor: pointer;\n",
              "      display: none;\n",
              "      fill: #1967D2;\n",
              "      height: 32px;\n",
              "      padding: 0 0 0 0;\n",
              "      width: 32px;\n",
              "    }\n",
              "\n",
              "    .colab-df-convert:hover {\n",
              "      background-color: #E2EBFA;\n",
              "      box-shadow: 0px 1px 2px rgba(60, 64, 67, 0.3), 0px 1px 3px 1px rgba(60, 64, 67, 0.15);\n",
              "      fill: #174EA6;\n",
              "    }\n",
              "\n",
              "    [theme=dark] .colab-df-convert {\n",
              "      background-color: #3B4455;\n",
              "      fill: #D2E3FC;\n",
              "    }\n",
              "\n",
              "    [theme=dark] .colab-df-convert:hover {\n",
              "      background-color: #434B5C;\n",
              "      box-shadow: 0px 1px 3px 1px rgba(0, 0, 0, 0.15);\n",
              "      filter: drop-shadow(0px 1px 2px rgba(0, 0, 0, 0.3));\n",
              "      fill: #FFFFFF;\n",
              "    }\n",
              "  </style>\n",
              "\n",
              "      <script>\n",
              "        const buttonEl =\n",
              "          document.querySelector('#df-d596df86-b8a6-4677-9d74-c3f3a1cedc4f button.colab-df-convert');\n",
              "        buttonEl.style.display =\n",
              "          google.colab.kernel.accessAllowed ? 'block' : 'none';\n",
              "\n",
              "        async function convertToInteractive(key) {\n",
              "          const element = document.querySelector('#df-d596df86-b8a6-4677-9d74-c3f3a1cedc4f');\n",
              "          const dataTable =\n",
              "            await google.colab.kernel.invokeFunction('convertToInteractive',\n",
              "                                                     [key], {});\n",
              "          if (!dataTable) return;\n",
              "\n",
              "          const docLinkHtml = 'Like what you see? Visit the ' +\n",
              "            '<a target=\"_blank\" href=https://colab.research.google.com/notebooks/data_table.ipynb>data table notebook</a>'\n",
              "            + ' to learn more about interactive tables.';\n",
              "          element.innerHTML = '';\n",
              "          dataTable['output_type'] = 'display_data';\n",
              "          await google.colab.output.renderOutput(dataTable, element);\n",
              "          const docLink = document.createElement('div');\n",
              "          docLink.innerHTML = docLinkHtml;\n",
              "          element.appendChild(docLink);\n",
              "        }\n",
              "      </script>\n",
              "    </div>\n",
              "  </div>\n",
              "  "
            ]
          },
          "metadata": {},
          "execution_count": 23
        }
      ]
    }
  ]
}